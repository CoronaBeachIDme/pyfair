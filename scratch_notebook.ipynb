{
 "cells": [
  {
   "cell_type": "code",
   "execution_count": 1,
   "metadata": {
    "scrolled": false
   },
   "outputs": [],
   "source": [
    "#import pyfair\n",
    "from pyfair.model.model import FairModel\n",
    "from pyfair.model.meta_model import FairMetaModel\n",
    "\n",
    "import matplotlib\n",
    "%matplotlib inline\n",
    "\n",
    "import numpy as np\n",
    "import pandas as pd"
   ]
  },
  {
   "cell_type": "code",
   "execution_count": 3,
   "metadata": {},
   "outputs": [
    {
     "name": "stdout",
     "output_type": "stream",
     "text": [
      "{\n",
      "    \"HA1\": {\n",
      "        \"Loss Event Frequency\": {\n",
      "            \"low\": 20,\n",
      "            \"mode\": 100,\n",
      "            \"high\": 900\n",
      "        },\n",
      "        \"Primary Loss\": {\n",
      "            \"low\": 3000000,\n",
      "            \"mode\": 3500000,\n",
      "            \"high\": 5000000\n",
      "        },\n",
      "        \"multi_Secondary Loss\": {\n",
      "            \"Secondary Loss Event Frequency\": {\n",
      "                \"Reputational\": {\n",
      "                    \"low\": 0.01,\n",
      "                    \"mode\": 0.8,\n",
      "                    \"high\": 0.99\n",
      "                }\n",
      "            },\n",
      "            \"Secondary Loss Event Magnitude\": {\n",
      "                \"Reputational\": {\n",
      "                    \"low\": 10000,\n",
      "                    \"mode\": 20000,\n",
      "                    \"high\": 100000\n",
      "                }\n",
      "            }\n",
      "        },\n",
      "        \"name\": \"HA1\",\n",
      "        \"n_simulations\": 10000,\n",
      "        \"random_seed\": 42,\n",
      "        \"model_uuid\": \"e50a157a-8cb7-11e9-960a-f06e0bbd6cbe\",\n",
      "        \"type\": \"FairModel\",\n",
      "        \"creation_date\": \"2019-06-11 21:15:06.105791\"\n",
      "    },\n",
      "    \"HA2\": {\n",
      "        \"Loss Event Frequency\": {\n",
      "            \"mean\": 0.5,\n",
      "            \"stdev\": 0.1\n",
      "        },\n",
      "        \"Loss Magnitude\": {\n",
      "            \"low\": 2000000000,\n",
      "            \"mode\": 3000000000,\n",
      "            \"high\": 5000000000\n",
      "        },\n",
      "        \"name\": \"HA2\",\n",
      "        \"n_simulations\": 10000,\n",
      "        \"random_seed\": 42,\n",
      "        \"model_uuid\": \"e50ef79c-8cb7-11e9-ba71-f06e0bbd6cbe\",\n",
      "        \"type\": \"FairModel\",\n",
      "        \"creation_date\": \"2019-06-11 21:15:06.137794\"\n",
      "    },\n",
      "    \"name\": \"My Meta Model!\",\n",
      "    \"model_uuid\": \"de6b17fe-8cb8-11e9-8dcf-f06e0bbd6cbe\",\n",
      "    \"creation_date\": \"2019-06-11 21:22:04.494233\",\n",
      "    \"type\": \"FairMetaModel\"\n",
      "}\n"
     ]
    }
   ],
   "source": [
    "import json\n",
    "\n",
    "with open('./serialized_model.json', 'r') as f:\n",
    "    print(f.read())"
   ]
  },
  {
   "cell_type": "code",
   "execution_count": null,
   "metadata": {
    "scrolled": true
   },
   "outputs": [],
   "source": [
    "model1 = pyfair.FairModel(name=\"HA1\", n_simulations=10_000)\n",
    "model1.input_data('Loss Event Frequency', low=20, mode=100, high=900)\n",
    "model1.input_data('Primary Loss', low=3_000_000, mode=3_500_000, high=5_000_000)\n",
    "model1.input_multi_data('Secondary Loss', {\n",
    "    'Secondary Loss Event Frequency': {\n",
    "        'Reputational': {\n",
    "            'low': .01,\n",
    "            'mode': .80,\n",
    "            'high': .99,\n",
    "        }\n",
    "    },\n",
    "    'Secondary Loss Event Magnitude' : {\n",
    "        'Reputational': {\n",
    "            'low': 10_000,\n",
    "            'mode': 20_000,\n",
    "            'high': 100_000,\n",
    "        }\n",
    "    }\n",
    "})\n",
    "\n",
    "model1.calculate_all()\n",
    "\n",
    "model2 = pyfair.FairModel(name=\"HA2\", n_simulations=10_000)\n",
    "model2.bulk_import_data({\n",
    "    'Loss Event Frequency':    {'mean':.5, 'stdev':.1},\n",
    "    'Loss Magnitude': {'low': 2_000_000_000, 'mode': 3_000_000_000, 'high': 5_000_000_000}\n",
    "})\n",
    "model2.calculate_all()\n",
    "\n",
    "model3 = pyfair.FairModel(name=\"HA3\", n_simulations=10_000)\n",
    "model3.input_data('Loss Event Frequency', low=10, mode=15, high=16)\n",
    "model3.input_data('Loss Magnitude', low=500_000_000, mode=500_900_000, high=600_000_000)\n",
    "model3.calculate_all()\n",
    "\n",
    "fsr = pyfair.FairSimpleReport([model1])\n",
    "fsr.to_html('output.html')"
   ]
  },
  {
   "cell_type": "code",
   "execution_count": null,
   "metadata": {},
   "outputs": [],
   "source": [
    "mm = pyfair.FairMetaModel(name='My Meta Model!', models=[model1, model2])\n",
    "mm.calculate_all()\n",
    "\n",
    "\n",
    "\n",
    "#fsr = pyfair.FairSimpleReport([model2, mm])\n",
    "#fsr.to_html('output.html')\n",
    "\n",
    "print(mm.to_json())\n",
    "\n",
    "with open('./serialized_model.json', 'w') as f:\n",
    "    f.write(mm.to_json())\n",
    "    \n",
    "with open('./serialized_model.json', 'r') as f:\n",
    "    model = FairMetaModel.read_json(f.read())\n",
    "    \n",
    "model"
   ]
  },
  {
   "cell_type": "markdown",
   "metadata": {},
   "source": [
    "# Components\n",
    "\n",
    "<section header and metadata>\n",
    "\n",
    "<section overview>\n",
    "\n",
    "* Summary General\n",
    "    * Summary Table (mean, stdev, low, high, n)\n",
    "    * hist\n",
    "    * Exceedence curves\n",
    "* Summary Comparison\n",
    "    * Summary Table (mean, stdev, low, high, n)\n",
    "    * Summary Table 2\n",
    "    * Combined Hist\n",
    "    * Exceedence curves\n",
    "    \n",
    "<section parameters>\n",
    "\n",
    "* Model Detail\n",
    "    * Parameter table with distributions\n",
    "* Metamodel Detail\n",
    "    * Risk table with stacked area\n",
    "    \n",
    "<section> and source code\n",
    "* JSON\n",
    "\n",
    "# Reports\n",
    "* Compare\n",
    "* Single\n",
    "* Metamodel Drilldown"
   ]
  },
  {
   "cell_type": "code",
   "execution_count": null,
   "metadata": {},
   "outputs": [],
   "source": [
    "from pyfair.utility.factory import FairModelFactory\n",
    "\n",
    "static = {\n",
    "    \"Loss Event Frequency\": {\n",
    "        \"low\": 20,\n",
    "        \"mode\": 100,\n",
    "        \"high\": 900\n",
    "    },\n",
    "}\n",
    "\n",
    "variable = {\n",
    "    'Model 1': {\n",
    "        \"Loss Magnitude\": {\n",
    "            \"low\": 3000000,\n",
    "            \"mode\": 3500000,\n",
    "            \"high\": 5000000\n",
    "        }\n",
    "    },\n",
    "    'Model 2': {\n",
    "        \"Loss Magnitude\": {\n",
    "            \"low\": 300000,\n",
    "            \"mode\": 350000,\n",
    "            \"high\": 500000\n",
    "        },\n",
    "    }\n",
    "}\n",
    "    \n",
    "factory = FairModelFactory(static)\n",
    "\n",
    "factory.generate_from_partials(variable)"
   ]
  },
  {
   "cell_type": "code",
   "execution_count": null,
   "metadata": {},
   "outputs": [],
   "source": [
    "from pyfair.report.distribution import FairDistributionCurve\n",
    "\n",
    "fdc = FairDistributionCurve([model1, model2, model3])\n",
    "#fig, ax = fdc.generate_image()\n",
    "\n",
    "fig, ax = fdc.generate_image()\n",
    "fdc.generate_icon('HA1', 'Risk')"
   ]
  },
  {
   "cell_type": "code",
   "execution_count": null,
   "metadata": {},
   "outputs": [],
   "source": []
  },
  {
   "cell_type": "code",
   "execution_count": null,
   "metadata": {
    "scrolled": false
   },
   "outputs": [],
   "source": [
    "from pyfair.report.exceedence import FairExceedenceCurves\n",
    "\n",
    "fpc = FairExceedenceCurves([model1, model2, model3])\n",
    "fig1, ax1 = fpc.generate_image()"
   ]
  },
  {
   "cell_type": "code",
   "execution_count": null,
   "metadata": {},
   "outputs": [],
   "source": [
    "import numpy as np"
   ]
  },
  {
   "cell_type": "code",
   "execution_count": null,
   "metadata": {},
   "outputs": [],
   "source": []
  }
 ],
 "metadata": {
  "kernelspec": {
   "display_name": "Python 3",
   "language": "python",
   "name": "python3"
  },
  "language_info": {
   "codemirror_mode": {
    "name": "ipython",
    "version": 3
   },
   "file_extension": ".py",
   "mimetype": "text/x-python",
   "name": "python",
   "nbconvert_exporter": "python",
   "pygments_lexer": "ipython3",
   "version": "3.6.7"
  }
 },
 "nbformat": 4,
 "nbformat_minor": 2
}
