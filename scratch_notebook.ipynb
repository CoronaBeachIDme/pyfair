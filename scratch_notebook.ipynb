{
 "cells": [
  {
   "cell_type": "code",
   "execution_count": 2,
   "metadata": {},
   "outputs": [],
   "source": [
    "import pyfair\n",
    "\n",
    "import matplotlib\n",
    "import matplotlib.pyplot as plt\n",
    "%matplotlib inline\n",
    "import pandas as pd\n",
    "import numpy as np\n",
    "import os"
   ]
  },
  {
   "cell_type": "code",
   "execution_count": 3,
   "metadata": {},
   "outputs": [],
   "source": [
    "from pyfair.report.individual import FairReport"
   ]
  },
  {
   "cell_type": "code",
   "execution_count": 4,
   "metadata": {},
   "outputs": [],
   "source": [
    "model1 = pyfair.FairModel(name=\"HA\", n_simulations=10_000)\n",
    "model1.input_data('Loss Event Frequency', low=.01, mode=.2, high=.5)\n",
    "model1.input_data('Probable Loss Magnitude', low=1, mode=1_000_000, high=10_000_000)\n",
    "model1.calculate_all()\n",
    "\n",
    "\n",
    "fr = FairReport(model1)\n",
    "fr.to_html('C:/Users/theon/Desktop/report.html')"
   ]
  },
  {
   "cell_type": "code",
   "execution_count": 182,
   "metadata": {},
   "outputs": [
    {
     "data": {
      "text/plain": [
       "Index(['Action', 'Asset Loss Factors', 'Contact', 'Control Strength',\n",
       "       'External Loss Factors', 'Loss Event Frequency',\n",
       "       'Organizational Loss Factors', 'Primary Loss Factors',\n",
       "       'Probable Loss Magnitude', 'Risk', 'Secondary Loss Factors',\n",
       "       'Threat Capability', 'Threat Event Frequency', 'Threat Loss Factors',\n",
       "       'Vulnerability'],\n",
       "      dtype='object')"
      ]
     },
     "execution_count": 182,
     "metadata": {},
     "output_type": "execute_result"
    }
   ],
   "source": [
    "'''\n",
    "# Level 1\n",
    "\n",
    "\n",
    "\n",
    "t1   = Rectangle((4800, 0), 1000, 500, color='blue')\n",
    "t2   = Rectangle((6000, 0), 1000, 500, color='blue')\n",
    "t3   = Rectangle((7200, 0), 1000, 500, color='blue')\n",
    "t4   = Rectangle((8400, 0), 1000, 500, color='blue')\n",
    "\n",
    "# Level 2\n",
    "sr  = Rectangle((7800, 800), 1000, 500, color='blue')\n",
    "\n",
    "\n",
    "\n",
    "# Level 3\n",
    "\n",
    "\n",
    "\n",
    "# Level 4\n",
    "\n",
    "'''\n",
    "colors.index"
   ]
  },
  {
   "cell_type": "code",
   "execution_count": 157,
   "metadata": {},
   "outputs": [],
   "source": [
    "statuses = model1.get_node_statuses()\n",
    "colors = pd.DataFrame.from_records([statuses]).T\n",
    "colors = colors.sort_index()\n",
    "colors.columns = ['status']\n",
    "colors['color'] = colors['status'].map({'Not Required': 'grey', 'Supplied': 'green', 'Calculated': 'blue'})"
   ]
  },
  {
   "cell_type": "code",
   "execution_count": null,
   "metadata": {},
   "outputs": [],
   "source": [
    "['Action', 'Asset Loss Factors', 'Contact', 'Control Strength',\n",
    "       'External Loss Factors', 'Loss Event Frequency',\n",
    "       'Organizational Loss Factors', 'Primary Loss Factors',\n",
    "       'Probable Loss Magnitude', 'Risk', 'Secondary Loss Factors',\n",
    "       'Threat Capability', 'Threat Event Frequency', 'Threat Loss Factors',\n",
    "       'Vulnerability'],"
   ]
  },
  {
   "cell_type": "code",
   "execution_count": 192,
   "metadata": {},
   "outputs": [
    {
     "data": {
      "text/html": [
       "<div>\n",
       "<style scoped>\n",
       "    .dataframe tbody tr th:only-of-type {\n",
       "        vertical-align: middle;\n",
       "    }\n",
       "\n",
       "    .dataframe tbody tr th {\n",
       "        vertical-align: top;\n",
       "    }\n",
       "\n",
       "    .dataframe thead th {\n",
       "        text-align: right;\n",
       "    }\n",
       "</style>\n",
       "<table border=\"1\" class=\"dataframe\">\n",
       "  <thead>\n",
       "    <tr style=\"text-align: right;\">\n",
       "      <th></th>\n",
       "      <th>status</th>\n",
       "      <th>color</th>\n",
       "    </tr>\n",
       "  </thead>\n",
       "  <tbody>\n",
       "    <tr>\n",
       "      <th>Action</th>\n",
       "      <td>Not Required</td>\n",
       "      <td>grey</td>\n",
       "    </tr>\n",
       "    <tr>\n",
       "      <th>Asset Loss Factors</th>\n",
       "      <td>Not Required</td>\n",
       "      <td>grey</td>\n",
       "    </tr>\n",
       "    <tr>\n",
       "      <th>Contact</th>\n",
       "      <td>Not Required</td>\n",
       "      <td>grey</td>\n",
       "    </tr>\n",
       "    <tr>\n",
       "      <th>Control Strength</th>\n",
       "      <td>Not Required</td>\n",
       "      <td>grey</td>\n",
       "    </tr>\n",
       "    <tr>\n",
       "      <th>External Loss Factors</th>\n",
       "      <td>Not Required</td>\n",
       "      <td>grey</td>\n",
       "    </tr>\n",
       "    <tr>\n",
       "      <th>Loss Event Frequency</th>\n",
       "      <td>Supplied</td>\n",
       "      <td>green</td>\n",
       "    </tr>\n",
       "    <tr>\n",
       "      <th>Organizational Loss Factors</th>\n",
       "      <td>Not Required</td>\n",
       "      <td>grey</td>\n",
       "    </tr>\n",
       "    <tr>\n",
       "      <th>Primary Loss Factors</th>\n",
       "      <td>Not Required</td>\n",
       "      <td>grey</td>\n",
       "    </tr>\n",
       "    <tr>\n",
       "      <th>Probable Loss Magnitude</th>\n",
       "      <td>Supplied</td>\n",
       "      <td>green</td>\n",
       "    </tr>\n",
       "    <tr>\n",
       "      <th>Risk</th>\n",
       "      <td>Calculated</td>\n",
       "      <td>blue</td>\n",
       "    </tr>\n",
       "    <tr>\n",
       "      <th>Secondary Loss Factors</th>\n",
       "      <td>Not Required</td>\n",
       "      <td>grey</td>\n",
       "    </tr>\n",
       "    <tr>\n",
       "      <th>Threat Capability</th>\n",
       "      <td>Not Required</td>\n",
       "      <td>grey</td>\n",
       "    </tr>\n",
       "    <tr>\n",
       "      <th>Threat Event Frequency</th>\n",
       "      <td>Not Required</td>\n",
       "      <td>grey</td>\n",
       "    </tr>\n",
       "    <tr>\n",
       "      <th>Threat Loss Factors</th>\n",
       "      <td>Not Required</td>\n",
       "      <td>grey</td>\n",
       "    </tr>\n",
       "    <tr>\n",
       "      <th>Vulnerability</th>\n",
       "      <td>Not Required</td>\n",
       "      <td>grey</td>\n",
       "    </tr>\n",
       "  </tbody>\n",
       "</table>\n",
       "</div>"
      ],
      "text/plain": [
       "                                   status  color\n",
       "Action                       Not Required   grey\n",
       "Asset Loss Factors           Not Required   grey\n",
       "Contact                      Not Required   grey\n",
       "Control Strength             Not Required   grey\n",
       "External Loss Factors        Not Required   grey\n",
       "Loss Event Frequency             Supplied  green\n",
       "Organizational Loss Factors  Not Required   grey\n",
       "Primary Loss Factors         Not Required   grey\n",
       "Probable Loss Magnitude          Supplied  green\n",
       "Risk                           Calculated   blue\n",
       "Secondary Loss Factors       Not Required   grey\n",
       "Threat Capability            Not Required   grey\n",
       "Threat Event Frequency       Not Required   grey\n",
       "Threat Loss Factors          Not Required   grey\n",
       "Vulnerability                Not Required   grey"
      ]
     },
     "execution_count": 192,
     "metadata": {},
     "output_type": "execute_result"
    }
   ],
   "source": [
    "colors"
   ]
  },
  {
   "cell_type": "code",
   "execution_count": 223,
   "metadata": {},
   "outputs": [
    {
     "data": {
      "text/plain": [
       "<matplotlib.collections.PatchCollection at 0x1ca48bae240>"
      ]
     },
     "execution_count": 223,
     "metadata": {},
     "output_type": "execute_result"
    },
    {
     "data": {
      "image/png": "[encoded data removed]",
      "text/plain": [
       "<Figure size 1440x288 with 1 Axes>"
      ]
     },
     "metadata": {
      "needs_background": "light"
     },
     "output_type": "display_data"
    }
   ],
   "source": [
    "fig, ax = plt.subplots()\n",
    "fig.set_size_inches(20,4)\n",
    "ax.set_xlim(0, 9_400)\n",
    "ax.set_ylim(0, 2_900)\n",
    "\n",
    "dimensions = pd.DataFrame.from_dict({\n",
    "    'Contact'                : [   0,    0,  600,  800],\n",
    "    'Threat Event Frequency' : [ 600,  800, 1800, 1600],\n",
    "    'Action'                 : [1200,    0,  600,  800],\n",
    "    'Threat Capability'      : [2400,    0, 3000,  800],\n",
    "    'Vulnerability'          : [3000,  800, 1800, 1600],\n",
    "    'Control Strength'       : [3600,    0, 3000,  800],\n",
    "    'Probable Loss Magnitude': [6600, 1600, 4200, 2400],\n",
    "    'Loss Event Frequency'   : [1800, 1600, 4200, 2400],\n",
    "    'Risk'                   : [4200, 2400, 4200, 5000],    \n",
    "}, orient='index', columns=['self_x', 'self_y', 'parent_x', 'parent_y'])\n",
    "\n",
    "\n",
    "combined = pd.concat([colors, dimensions], axis=1, sort=True)\n",
    "\n",
    "patches = []\n",
    "patch_colors = []\n",
    "\n",
    "def draw_node(row, ax, patches):\n",
    "    rect = Rectangle(\n",
    "        (row['self_x'], row['self_y']),\n",
    "        1000,\n",
    "        500,\n",
    "        alpha=.3,\n",
    "    )\n",
    "    plt.text(row['self_x'], row['self_y'] + 250, row.name, verticalalignment='bottom')\n",
    "    patches.append(rect)\n",
    "    patch_colors.append(row['color'])\n",
    "    if (row['color'] != 'grey') or row.name != 'Risk':\n",
    "        ax.annotate(\n",
    "            None,\n",
    "            xy=(row['parent_x'] + 500, row['parent_y']), \n",
    "            xytext=(row['self_x'] + 500, row['self_y'] + 500),     \n",
    "              arrowprops=dict(\n",
    "                  arrowstyle=\"-\",\n",
    "                  connectionstyle=\"angle3,angleA=0,angleB=-90\",\n",
    "                  ec=row['color'],\n",
    "                  alpha=.3,\n",
    "                  linestyle='--', \n",
    "                  linewidth=4),\n",
    "        )\n",
    "\n",
    "combined = combined.dropna(axis=0)\n",
    "combined.apply(draw_node, axis=1, args=[ax, patches])\n",
    "\n",
    "collection = PatchCollection(patches, facecolor=patch_colors, alpha=.3)\n",
    "ax.add_collection(collection)\n"
   ]
  },
  {
   "cell_type": "code",
   "execution_count": 127,
   "metadata": {},
   "outputs": [
    {
     "data": {
      "text/plain": [
       "Text(1700, 490, '')"
      ]
     },
     "execution_count": 127,
     "metadata": {},
     "output_type": "execute_result"
    },
    {
     "data": {
      "image/png": "[encoded data removed]",
      "text/plain": [
       "<Figure size 1152x288 with 1 Axes>"
      ]
     },
     "metadata": {
      "needs_background": "light"
     },
     "output_type": "display_data"
    }
   ],
   "source": [
    "from matplotlib.patches import Rectangle, FancyArrowPatch\n",
    "from matplotlib.collections import PatchCollection, LineCollection\n",
    "\n",
    "fig, ax = plt.subplots()\n",
    "fig.set_size_inches(16,4)\n",
    "ax.set_xlim(0, 9_400)\n",
    "ax.set_ylim(0, 2_700)\n",
    "\n",
    "# Level 1\n",
    "con  = Rectangle((0   , 0), 1000, 500, color='blue')\n",
    "act  = Rectangle((1200, 0), 1000, 500, color='blue')\n",
    "tcap = Rectangle((2400, 0), 1000, 500, color='blue')\n",
    "cs   = Rectangle((3600, 0), 1000, 500, color='blue')\n",
    "t1   = Rectangle((4800, 0), 1000, 500, color='blue')\n",
    "t2   = Rectangle((6000, 0), 1000, 500, color='blue')\n",
    "t3   = Rectangle((7200, 0), 1000, 500, color='blue')\n",
    "t4   = Rectangle((8400, 0), 1000, 500, color='blue')\n",
    "\n",
    "# Level 2\n",
    "tef = Rectangle((600 , 800), 1000, 500, color='blue')\n",
    "vul = Rectangle((3000, 800), 1000, 500, color='blue')\n",
    "plm = Rectangle((5400, 800), 1000, 500, color='blue')\n",
    "sr  = Rectangle((7800, 800), 1000, 500, color='blue')\n",
    "\n",
    "# Level 3\n",
    "lef = Rectangle((1800, 1600), 1000, 500, color='blue')\n",
    "lm  = Rectangle((6600, 1600), 1000, 500, color='blue')\n",
    "\n",
    "# Level 4\n",
    "risk = Rectangle((4200, 2200), 1000, 500, color='blue')\n",
    "\n",
    "\n",
    "collection_1 = PatchCollection([con, act, tcap, cs, t1, t2, t3, t4, tef, vul, plm, sr, lef, lm, risk])\n",
    "\n",
    "\n",
    "ax.add_collection(collection_1)\n",
    "\n",
    "ax.annotate(None,\n",
    "                  xy=(500, 500), xycoords='data',\n",
    "                  xytext=(1100, 800), textcoords='data',\n",
    "                  size=20, va=\"center\", ha=\"center\",\n",
    "                  arrowprops=dict(arrowstyle=\"-\",\n",
    "                                  connectionstyle=\"arc3,rad=0.2\",\n",
    "                                  relpos=(1., 0.),\n",
    "                                  ec=\"green\", linestyle='--', linewidth=4),\n",
    "                  )\n",
    "\n",
    "ax.annotate(None,\n",
    "                  xy=(1100, 800), xycoords='data',\n",
    "                  xytext=(1700, 490), textcoords='data',\n",
    "                  size=20, va=\"center\", ha=\"center\",\n",
    "                  arrowprops=dict(arrowstyle=\"-\",\n",
    "                                  connectionstyle=\"arc3,rad=.2\",\n",
    "                                  relpos=(1., 0.),\n",
    "                                  ec=\"green\", linestyle='--', linewidth=4),\n",
    "                  )"
   ]
  },
  {
   "cell_type": "code",
   "execution_count": 3,
   "metadata": {},
   "outputs": [],
   "source": [
    "model1 = pyfair.FairModel(name=\"HA\", n_simulations=10_000)\n",
    "model1.input_data('Loss Event Frequency', low=.01, mode=.2, high=.5)\n",
    "model1.input_data('Probable Loss Magnitude', low=1, mode=1_000_000, high=10_000_000)\n",
    "model1.calculate_all()\n",
    "\n",
    "model2 = pyfair.FairModel(name=\"NOT HA\", n_simulations=10_000)\n",
    "model2.input_data('Loss Event Frequency', low=.01, mode=.2, high=.5)\n",
    "model2.input_data('Probable Loss Magnitude', low=1, mode=1_000_000, high=10_000_000)\n",
    "model2.calculate_all()\n",
    "\n",
    "\n",
    "meta1 = pyfair.FairMetaModel('Metamodel', [model1, model2])\n",
    "out_json = pyfair.FairMetaModel('Metamodel2', [model1, meta1])"
   ]
  },
  {
   "cell_type": "code",
   "execution_count": 4,
   "metadata": {},
   "outputs": [
    {
     "data": {
      "text/plain": [
       "\"<class 'pyfair.model.meta_model.FairMetaModel'>\""
      ]
     },
     "execution_count": 4,
     "metadata": {},
     "output_type": "execute_result"
    }
   ],
   "source": [
    "str(type(meta1))"
   ]
  },
  {
   "cell_type": "code",
   "execution_count": null,
   "metadata": {},
   "outputs": [],
   "source": [
    "'''\n",
    "FairModel\n",
    "    Just one\n",
    "FairAddititveMetaModel\n",
    "    Add all the risks together and display with components\n",
    "FairComparativeMetaModel\n",
    "    Put risks side by side\n",
    "    \n",
    "Mu, Sigma for Risk\n",
    "\n",
    "Model Params\n",
    "\n",
    "Source\n",
    "'''"
   ]
  },
  {
   "cell_type": "code",
   "execution_count": 7,
   "metadata": {},
   "outputs": [
    {
     "data": {
      "text/html": [
       "<div>\n",
       "<style scoped>\n",
       "    .dataframe tbody tr th:only-of-type {\n",
       "        vertical-align: middle;\n",
       "    }\n",
       "\n",
       "    .dataframe tbody tr th {\n",
       "        vertical-align: top;\n",
       "    }\n",
       "\n",
       "    .dataframe thead th {\n",
       "        text-align: right;\n",
       "    }\n",
       "</style>\n",
       "<table border=\"1\" class=\"dataframe\">\n",
       "  <thead>\n",
       "    <tr style=\"text-align: right;\">\n",
       "      <th></th>\n",
       "      <th>0</th>\n",
       "    </tr>\n",
       "  </thead>\n",
       "  <tbody>\n",
       "    <tr>\n",
       "      <th>Author</th>\n",
       "      <td>theon</td>\n",
       "    </tr>\n",
       "    <tr>\n",
       "      <th>Generated</th>\n",
       "      <td>2019-05-13 08:25:21</td>\n",
       "    </tr>\n",
       "    <tr>\n",
       "      <th>PyFair Version</th>\n",
       "      <td>0.0.1</td>\n",
       "    </tr>\n",
       "  </tbody>\n",
       "</table>\n",
       "</div>"
      ],
      "text/plain": [
       "                                  0\n",
       "Author                        theon\n",
       "Generated       2019-05-13 08:25:21\n",
       "PyFair Version                0.0.1"
      ]
     },
     "execution_count": 7,
     "metadata": {},
     "output_type": "execute_result"
    }
   ],
   "source": [
    "metadata = pd.Series(\n",
    "    {\n",
    "        'Author': os.environ['USERNAME'],\n",
    "        'Generated': str(pd.datetime.now()).partition('.')[0],\n",
    "        'PyFair Version': pyfair.VERSION\n",
    "    }\n",
    ").to_frame()\n",
    "\n",
    "metadata"
   ]
  },
  {
   "cell_type": "code",
   "execution_count": null,
   "metadata": {},
   "outputs": [],
   "source": [
    "#### Left third, provided data. RIght 2/3rds, tree\n",
    "model2 = pyfair.read_json(results)\n",
    "params = model2.export_params()\n",
    "data = model2.export_results()\n",
    "del params['Creation Datetime']\n",
    "df = pd.DataFrame.from_dict(params)\n",
    "df = df.reindex(['low', 'mode', 'high', 'p'])\n",
    "df.index = df.index.str.title()\n",
    "df"
   ]
  },
  {
   "cell_type": "code",
   "execution_count": null,
   "metadata": {},
   "outputs": [],
   "source": [
    "derived = df.agg([np.mean, np.std, np.min, np.max])\n",
    "derived.index = ['μ', 'σ', 'Minimum', 'Maximum']\n",
    "\n",
    "final_data = pd.concat([derived, df], axis=0)\n",
    "final_data = final_data.dropna()\n",
    "\n",
    "# If Column as data greater than 1,\n",
    "condition = final_data.max() > 1\n",
    "\n",
    "# Get True Clumns\n",
    "true_col = condition.loc[condition].index.values\n",
    "\n",
    "#Get False COlumns\n",
    "false_col = condition.loc[~condition].index.values\n",
    "\n",
    "# If false, it's between 0 and 1. 3 decimals\n",
    "final_data[false_col] = final_data[false_col]\n",
    "final_data[false_col] = final_data[false_col].applymap(lambda x: '{0:.3f}'.format(x))\n",
    "\n",
    "# If true, get the max digits and round\n",
    "final_data[true_col] = final_data[true_col].astype(int)\n",
    "final_data[true_col] = final_data[true_col].applymap(lambda x: '{0:,}'.format(x))\n",
    "\n",
    "for column in ['Probable Loss Magnitude', 'Risk']:\n",
    "    if column in final_data.columns:\n",
    "        final_data[column] = '$' + final_data[column]\n",
    "\n",
    "final_data.T"
   ]
  },
  {
   "cell_type": "code",
   "execution_count": null,
   "metadata": {},
   "outputs": [],
   "source": [
    "model3 = pyfair.read_json(results)\n",
    "df3 = model3.export_results()\n",
    "risk = df3['Risk']\n",
    "risk_d = risk.agg([np.mean, np.std, np.min, np.max]).astype(int)\n",
    "risk_d.index = ['μ', 'σ', 'Minimum', 'Maximum']\n",
    "\n",
    "pd.DataFrame(risk_d).T.applymap(lambda x: '${0:,}'.format(x))"
   ]
  },
  {
   "cell_type": "code",
   "execution_count": null,
   "metadata": {},
   "outputs": [],
   "source": [
    "# Draw curves?\n",
    "model3.__class__"
   ]
  },
  {
   "cell_type": "code",
   "execution_count": null,
   "metadata": {},
   "outputs": [],
   "source": [
    "dollar_format_string     = '${0:,}'\n",
    "integer_format_string    = '{0:,}'\n",
    "percentage_format_string = '{0:.3f}'\n",
    "format_strings = {\n",
    "    'Risk'                        : dollar_format_string,\n",
    "    'Loss Event Frequency'        : integer_format_string,\n",
    "    'Threat Event Frequency'      : integer_format_string,\n",
    "    'Vulnerability'               : integer_format_string,         \n",
    "    'Contact'                     : percentage_format_string,\n",
    "    'Action'                      : percentage_format_string,\n",
    "    'Threat Capability'           : percentage_format_string,\n",
    "    'Control Strength'            : percentage_format_string,\n",
    "    'Probable Loss Magnitude'     : dollar_format_string,\n",
    "    'Primary Loss Factors'        : dollar_format_string,\n",
    "    'Asset Loss Factors'          : dollar_format_string,\n",
    "    'Threat Loss Factors'         : dollar_format_string,\n",
    "    'Secondary Loss Factors'      : dollar_format_string,\n",
    "    'Organizational Loss Factors' : dollar_format_string,\n",
    "    'External Loss Factors'       : dollar_format_string,\n",
    "}"
   ]
  },
  {
   "cell_type": "markdown",
   "metadata": {},
   "source": [
    "SINGLE\n",
    "    header\n",
    "    meta\n",
    "    left third, risk top then params. right 2/3, tree diagram\n",
    "    left have loss excedence, right half exceedence probability\n",
    "    code\n",
    "    \n",
    "COMPARISON\n",
    "    header\n",
    "    meta\n",
    "    left third, risk top then params for each. right 2/3, tree diagram\n",
    "    left have loss excedence, right half exceedence probability\n",
    "    code\n",
    "\n",
    "ADDITIVE\n",
    "    header\n",
    "    meta\n",
    "    for each:\n",
    "        left third, risk top then params. right 2/3, tree diagram\n",
    "        left have loss excedence, right half exceedence probability\n",
    "    for all:\n",
    "        loss exceedence and exceedence probability and \n",
    "        risk\n",
    "    code"
   ]
  },
  {
   "cell_type": "code",
   "execution_count": null,
   "metadata": {},
   "outputs": [],
   "source": [
    "class FairBasic()"
   ]
  },
  {
   "cell_type": "code",
   "execution_count": null,
   "metadata": {},
   "outputs": [],
   "source": [
    "uuid.uuid1()"
   ]
  },
  {
   "cell_type": "code",
   "execution_count": null,
   "metadata": {},
   "outputs": [],
   "source": [
    "import os\n",
    "import subprocess\n",
    "import tempfile\n",
    "\n",
    "td = tempfile.mkdtemp()\n",
    "tf = tempfile.NamedTemporaryFile(dir=td, mode='w+')\n",
    "os.chdir(td)\n",
    "\n",
    "tf.write('LATEX!')\n",
    "\n",
    "os.listdir(td)\n",
    "\n",
    "p = subprocess.run(['dir', str(td)])"
   ]
  },
  {
   "cell_type": "code",
   "execution_count": null,
   "metadata": {},
   "outputs": [],
   "source": [
    "model"
   ]
  },
  {
   "cell_type": "code",
   "execution_count": null,
   "metadata": {},
   "outputs": [],
   "source": [
    "td"
   ]
  },
  {
   "cell_type": "code",
   "execution_count": null,
   "metadata": {},
   "outputs": [],
   "source": []
  }
 ],
 "metadata": {
  "kernelspec": {
   "display_name": "Python 3",
   "language": "python",
   "name": "python3"
  }
 },
 "nbformat": 4,
 "nbformat_minor": 2
}
