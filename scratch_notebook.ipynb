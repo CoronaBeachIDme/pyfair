{
 "cells": [
  {
   "cell_type": "code",
   "execution_count": 1,
   "metadata": {
    "scrolled": false
   },
   "outputs": [],
   "source": [
    "import pyfair\n",
    "\n",
    "import matplotlib\n",
    "import matplotlib.pyplot as plt\n",
    "%matplotlib inline\n",
    "import pandas as pd\n",
    "import numpy as np\n",
    "import os"
   ]
  },
  {
   "cell_type": "code",
   "execution_count": 2,
   "metadata": {},
   "outputs": [],
   "source": [
    "import pyfair\n",
    "\n",
    "from pyfair.report.base_report import FairBaseReport"
   ]
  },
  {
   "cell_type": "code",
   "execution_count": 3,
   "metadata": {
    "scrolled": false
   },
   "outputs": [],
   "source": [
    "model1 = pyfair.FairModel(name=\"HA1\", n_simulations=10_000)\n",
    "model1.input_data('Loss Event Frequency', low=20, mode=100, high=900)\n",
    "model1.input_data('Probable Loss Magnitude', low=3_000_000, mode=3_500_000, high=5_000_000)\n",
    "model1.calculate_all()\n",
    "\n",
    "model2 = pyfair.FairModel(name=\"HA2\", n_simulations=10_000)\n",
    "model2.input_data('Loss Event Frequency', low=.5, mode=.7, high=.9)\n",
    "model2.input_data('Probable Loss Magnitude', low=2_000_000_000, mode=3_000_000_000, high=5_000_000_000)\n",
    "model2.calculate_all()\n",
    "\n",
    "model3 = pyfair.FairModel(name=\"HA3\", n_simulations=10_000)\n",
    "model3.input_data('Loss Event Frequency', low=10, mode=15, high=16)\n",
    "model3.input_data('Probable Loss Magnitude', low=500_000_000, mode=500_900_000, high=600_000_000)\n",
    "model3.calculate_all()\n",
    "\n",
    "#fr = FairReport(model1)\n",
    "#fr.to_html('C:/Users/theon/Desktop/report.html')\n",
    "results = model1.export_results()\n",
    "node_statuses = model1.get_node_statuses()"
   ]
  },
  {
   "cell_type": "code",
   "execution_count": null,
   "metadata": {},
   "outputs": [],
   "source": [
    "import pandas as pd\n",
    "\n",
    "\n",
    "class FairSimpleReport(FairBaseReport):\n",
    "    \n",
    "    def __init__(self, model):\n",
    "        super().__init__()\n",
    "        self._model = model\n",
    "        self._css = self._template_paths['css'].read_text()\n",
    "        self._template = self._template_paths['simple'].read_text()\n",
    "        \n",
    "    def _construct_output(self):\n",
    "        '''Function called by FairBaseReport.to_html()'''\n",
    "        \n",
    "        # Alias\n",
    "        t = self._template\n",
    "        # Add css\n",
    "        t = t.replace('{STYLE}', self._css)\n",
    "        # Add Metadata\n",
    "        t = t.replace('{METADATA}', self._get_metadata_table())\n",
    "        # Get logo tag\n",
    "        b64 = self.base64ify(self._logo_location)\n",
    "        t = t.replace('{PYTHON_LOGO}', b64)\n",
    "\n",
    "        # Overview Table\n",
    "        data = self._model.export_results()\n",
    "        risk = data['Risk']\n",
    "        # Shoud this be done within model?\n",
    "        overview_df = pd.DataFrame(\n",
    "            columns=['Risk'],\n",
    "            index=['Mean', 'Stdev', 'Maximum', 'Minimum'],\n",
    "            data=[risk.mean(), risk.std(), risk.max(), risk.min()]\n",
    "        )\n",
    "        overview_df = overview_df.applymap(lambda x: self._format_strings['Risk'].format(x))\n",
    "        overview_df.loc['Simulations'] = '{0:,.0f}'.format(len(risk))\n",
    "        overview_df.loc['Identifier'] = self._model.get_uuid()\n",
    "        overview_html = overview_df.to_html(border=0, header=True, justify='left', classes='fair_table')\n",
    "        t = t.replace('{OVERVIEW_DATAFRAME}', overview_html)\n",
    "        \n",
    "        # Overview Hist\n",
    "        hist = self._get_distribution(self._model)\n",
    "        t = t.replace('{HIST}', hist)\n",
    "        \n",
    "        # Overview Exceedence Curves\n",
    "        exceed = self._get_exceedence_curves(self._model)\n",
    "        t = t.replace('{EXCEEDENCE}', exceed)\n",
    "        \n",
    "        # # Detail Image\n",
    "        detail_img = ''\n",
    "        print(self._model.__class__.__name__)\n",
    "        if self._model.__class__.__name__ == 'FairModel':\n",
    "            detail_img += self._get_tree(self._model)\n",
    "        if self._model.__class__.__name__ == 'FairMetaModel':\n",
    "            detail_img += self._get_violins(self._model)\n",
    "        t = t.replace('{PARAMETER_IMG}', detail_img)\n",
    "        \n",
    "        # Detail table\n",
    "        detail_table = ''\n",
    "        params = self._model.export_params()\n",
    "        try:\n",
    "            del params['Creation Datetime']\n",
    "        except KeyError:\n",
    "            pass\n",
    "        param_df = pd.DataFrame(params).T\n",
    "        param_df['distribution'] = [\n",
    "            self._get_distribution_icon(self._model, target)\n",
    "            for target \n",
    "            in param_df.index.values\n",
    "        ]\n",
    "        pd.set_option('display.max_colwidth', -1)\n",
    "        detail_table += param_df.to_html(\n",
    "            border=0, \n",
    "            header=True, \n",
    "            justify='left', \n",
    "            classes='fair_table',\n",
    "            escape=False\n",
    "        )\n",
    "        t = t.replace('{PARAMETER_TABLE}', detail_table)\n",
    "        print(self._format_strings)\n",
    "        \n",
    "        \n",
    "        \n",
    "        return t\n",
    "        \n",
    "fsr = FairSimpleReport(model1)\n",
    "fsr.to_html('output.html')\n",
    "\n",
    "raise Exception()"
   ]
  },
  {
   "cell_type": "markdown",
   "metadata": {},
   "source": [
    "# Components\n",
    "\n",
    "<section header and metadata>\n",
    "\n",
    "<section overview>\n",
    "\n",
    "* Summary General\n",
    "    * Summary Table (mean, stdev, low, high, n)\n",
    "    * hist\n",
    "    * Exceedence curves\n",
    "* Summary Comparison\n",
    "    * Summary Table (mean, stdev, low, high, n)\n",
    "    * Summary Table 2\n",
    "    * Combined Hist\n",
    "    * Exceedence curves\n",
    "    \n",
    "<section parameters>\n",
    "\n",
    "* Model Detail\n",
    "    * Parameter table with distributions\n",
    "* Metamodel Detail\n",
    "    * Risk table with stacked area\n",
    "    \n",
    "<section> and source code\n",
    "* JSON\n",
    "\n",
    "# Reports\n",
    "* Compare\n",
    "* Single\n",
    "* Metamodel Drilldown"
   ]
  },
  {
   "cell_type": "code",
   "execution_count": null,
   "metadata": {},
   "outputs": [],
   "source": [
    "\n",
    "mm = pyfair.FairMetaModel(name='MetaModel1', models=[model1, model2, model3])\n",
    "\n",
    "fig, ax = plt.subplots(figsize=(6, 6))\n",
    "# For each model, calculate and plot.\n",
    "columns = mm.export_results().columns\n",
    "ax.violinplot(\n",
    "    mm.export_results().values,\n",
    "    showmeans=False,\n",
    "    showmedians=True\n",
    ")\n",
    "ax.axes.xaxis.set_ticklabels(columns)\n",
    "ax.axes.xaxis.set_ticks([item for item in range(1, len(columns) + 1)])\n",
    "ax.set_title('Metamodel Components By Risk', fontsize=20)\n",
    "ax.axes.yaxis.set_major_formatter(matplotlib.ticker.StrMethodFormatter('${x:,.0f}'))"
   ]
  },
  {
   "cell_type": "code",
   "execution_count": null,
   "metadata": {},
   "outputs": [],
   "source": [
    "from pyfair.report.distribution import FairDistributionCurve\n",
    "\n",
    "fdc = FairDistributionCurve([model1, model2, model3])\n",
    "#fig, ax = fdc.generate_image()\n",
    "\n",
    "fig, ax = fdc.generate_image()\n",
    "fdc.generate_icon('HA1', 'Risk')"
   ]
  },
  {
   "cell_type": "code",
   "execution_count": null,
   "metadata": {},
   "outputs": [],
   "source": []
  },
  {
   "cell_type": "code",
   "execution_count": null,
   "metadata": {
    "scrolled": false
   },
   "outputs": [],
   "source": [
    "from pyfair.report.exceedence import FairExceedenceCurves\n",
    "\n",
    "fpc = FairExceedenceCurves([model1, model2, model3])\n",
    "fig1, ax1 = fpc.generate_image()"
   ]
  },
  {
   "cell_type": "code",
   "execution_count": null,
   "metadata": {},
   "outputs": [],
   "source": []
  },
  {
   "cell_type": "code",
   "execution_count": null,
   "metadata": {},
   "outputs": [],
   "source": []
  },
  {
   "cell_type": "code",
   "execution_count": null,
   "metadata": {},
   "outputs": [],
   "source": [
    "'''\n",
    "FairModel\n",
    "    Just one\n",
    "FairAddititveMetaModel\n",
    "    Add all the risks together and display with components\n",
    "FairComparativeMetaModel\n",
    "    Put risks side by side\n",
    "    \n",
    "Mu, Sigma for Risk\n",
    "\n",
    "Model Params\n",
    "\n",
    "Source\n",
    "'''"
   ]
  },
  {
   "cell_type": "code",
   "execution_count": null,
   "metadata": {},
   "outputs": [],
   "source": []
  }
 ],
 "metadata": {
  "kernelspec": {
   "display_name": "Python 3",
   "language": "python",
   "name": "python3"
  },
  "language_info": {
   "codemirror_mode": {
    "name": "ipython",
    "version": 3
   },
   "file_extension": ".py",
   "mimetype": "text/x-python",
   "name": "python",
   "nbconvert_exporter": "python",
   "pygments_lexer": "ipython3",
   "version": "3.6.7"
  }
 },
 "nbformat": 4,
 "nbformat_minor": 2
}
