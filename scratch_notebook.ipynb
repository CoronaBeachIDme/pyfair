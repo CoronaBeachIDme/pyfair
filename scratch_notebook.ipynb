{
 "cells": [
  {
   "cell_type": "code",
   "execution_count": 71,
   "metadata": {
    "scrolled": false
   },
   "outputs": [],
   "source": [
    "#import pyfair\n",
    "from pyfair.model.model import FairModel\n",
    "from pyfair.model.meta_model import FairMetaModel\n",
    "\n",
    "import matplotlib\n",
    "%matplotlib inline\n",
    "\n",
    "import numpy as np\n",
    "import pandas as pd\n",
    "\n",
    "import pyfair\n",
    "\n",
    "import uuid"
   ]
  },
  {
   "cell_type": "code",
   "execution_count": null,
   "metadata": {},
   "outputs": [],
   "source": [
    "import sqlite3\n",
    "\n",
    "\n",
    "class FairDatabase(object):\n",
    "    '''A wrapper class for an SQLite3 database for storing models.'''\n",
    "    \n",
    "    def __init__(self, path):\n",
    "        self._path = path\n",
    "        self._initialize()\n",
    "    \n",
    "    def _initialize(self):\n",
    "        '''Initialize if necessary.'''\n",
    "        \n",
    "    def _df_to_dict(self, input_df):\n",
    "        pass\n",
    "    \n",
    "    def _dict_to_df(self, input_dict)"
   ]
  },
  {
   "cell_type": "code",
   "execution_count": 82,
   "metadata": {},
   "outputs": [
    {
     "data": {
      "text/html": [
       "<div>\n",
       "<style scoped>\n",
       "    .dataframe tbody tr th:only-of-type {\n",
       "        vertical-align: middle;\n",
       "    }\n",
       "\n",
       "    .dataframe tbody tr th {\n",
       "        vertical-align: top;\n",
       "    }\n",
       "\n",
       "    .dataframe thead th {\n",
       "        text-align: right;\n",
       "    }\n",
       "</style>\n",
       "<table border=\"1\" class=\"dataframe\">\n",
       "  <thead>\n",
       "    <tr style=\"text-align: right;\">\n",
       "      <th></th>\n",
       "      <th>target</th>\n",
       "      <th>low</th>\n",
       "      <th>mode</th>\n",
       "      <th>high</th>\n",
       "    </tr>\n",
       "  </thead>\n",
       "  <tbody>\n",
       "    <tr>\n",
       "      <th>0807e5d1-3776-452d-b27d-cae660f554de</th>\n",
       "      <td>Loss Magnitude</td>\n",
       "      <td>100.0</td>\n",
       "      <td>120.0</td>\n",
       "      <td>150.0</td>\n",
       "    </tr>\n",
       "  </tbody>\n",
       "</table>\n",
       "</div>"
      ],
      "text/plain": [
       "                                              target    low   mode   high\n",
       "0807e5d1-3776-452d-b27d-cae660f554de  Loss Magnitude  100.0  120.0  150.0"
      ]
     },
     "execution_count": 82,
     "metadata": {},
     "output_type": "execute_result"
    }
   ],
   "source": [
    "df1 = pd.DataFrame(columns=['target', 'low', 'mode', 'high'])\n",
    "df1.loc[uuid.uuid4()] = ['Loss Magnitude', 100.0, 120.0, 150.0]\n",
    "df1"
   ]
  },
  {
   "cell_type": "code",
   "execution_count": 83,
   "metadata": {},
   "outputs": [
    {
     "data": {
      "text/html": [
       "<div>\n",
       "<style scoped>\n",
       "    .dataframe tbody tr th:only-of-type {\n",
       "        vertical-align: middle;\n",
       "    }\n",
       "\n",
       "    .dataframe tbody tr th {\n",
       "        vertical-align: top;\n",
       "    }\n",
       "\n",
       "    .dataframe thead th {\n",
       "        text-align: right;\n",
       "    }\n",
       "</style>\n",
       "<table border=\"1\" class=\"dataframe\">\n",
       "  <thead>\n",
       "    <tr style=\"text-align: right;\">\n",
       "      <th></th>\n",
       "      <th>target</th>\n",
       "      <th>p</th>\n",
       "    </tr>\n",
       "  </thead>\n",
       "  <tbody>\n",
       "    <tr>\n",
       "      <th>2a3e1ef0-ea40-4afc-bf67-8f8d8e117d30</th>\n",
       "      <td>Vulnerability</td>\n",
       "      <td>0.05</td>\n",
       "    </tr>\n",
       "  </tbody>\n",
       "</table>\n",
       "</div>"
      ],
      "text/plain": [
       "                                             target     p\n",
       "2a3e1ef0-ea40-4afc-bf67-8f8d8e117d30  Vulnerability  0.05"
      ]
     },
     "execution_count": 83,
     "metadata": {},
     "output_type": "execute_result"
    }
   ],
   "source": [
    "df2 = pd.DataFrame(columns=['target', 'p'])\n",
    "df2.loc[uuid.uuid4()] = ['Vulnerability', .05]\n",
    "df2"
   ]
  },
  {
   "cell_type": "code",
   "execution_count": 84,
   "metadata": {},
   "outputs": [
    {
     "data": {
      "text/html": [
       "<div>\n",
       "<style scoped>\n",
       "    .dataframe tbody tr th:only-of-type {\n",
       "        vertical-align: middle;\n",
       "    }\n",
       "\n",
       "    .dataframe tbody tr th {\n",
       "        vertical-align: top;\n",
       "    }\n",
       "\n",
       "    .dataframe thead th {\n",
       "        text-align: right;\n",
       "    }\n",
       "</style>\n",
       "<table border=\"1\" class=\"dataframe\">\n",
       "  <thead>\n",
       "    <tr style=\"text-align: right;\">\n",
       "      <th></th>\n",
       "      <th>target</th>\n",
       "      <th>constant</th>\n",
       "    </tr>\n",
       "  </thead>\n",
       "  <tbody>\n",
       "    <tr>\n",
       "      <th>c2b1d4f2-0628-4ef2-9c64-3150d53d2707</th>\n",
       "      <td>Primary Loss Magnitude</td>\n",
       "      <td>100000.0</td>\n",
       "    </tr>\n",
       "  </tbody>\n",
       "</table>\n",
       "</div>"
      ],
      "text/plain": [
       "                                                      target  constant\n",
       "c2b1d4f2-0628-4ef2-9c64-3150d53d2707  Primary Loss Magnitude  100000.0"
      ]
     },
     "execution_count": 84,
     "metadata": {},
     "output_type": "execute_result"
    }
   ],
   "source": [
    "df3 = pd.DataFrame(columns=['target', 'constant'])\n",
    "df3.loc[uuid.uuid4()] = ['Primary Loss Magnitude', 100_000.0]\n",
    "df3"
   ]
  },
  {
   "cell_type": "code",
   "execution_count": 85,
   "metadata": {},
   "outputs": [
    {
     "data": {
      "text/html": [
       "<div>\n",
       "<style scoped>\n",
       "    .dataframe tbody tr th:only-of-type {\n",
       "        vertical-align: middle;\n",
       "    }\n",
       "\n",
       "    .dataframe tbody tr th {\n",
       "        vertical-align: top;\n",
       "    }\n",
       "\n",
       "    .dataframe thead th {\n",
       "        text-align: right;\n",
       "    }\n",
       "</style>\n",
       "<table border=\"1\" class=\"dataframe\">\n",
       "  <thead>\n",
       "    <tr style=\"text-align: right;\">\n",
       "      <th></th>\n",
       "      <th>target</th>\n",
       "      <th>mean</th>\n",
       "      <th>stdev</th>\n",
       "    </tr>\n",
       "  </thead>\n",
       "  <tbody>\n",
       "    <tr>\n",
       "      <th>af94aff5-1d7f-440f-bbe9-01207f5a625b</th>\n",
       "      <td>TCap</td>\n",
       "      <td>0.5</td>\n",
       "      <td>0.1</td>\n",
       "    </tr>\n",
       "  </tbody>\n",
       "</table>\n",
       "</div>"
      ],
      "text/plain": [
       "                                     target  mean  stdev\n",
       "af94aff5-1d7f-440f-bbe9-01207f5a625b   TCap   0.5    0.1"
      ]
     },
     "execution_count": 85,
     "metadata": {},
     "output_type": "execute_result"
    }
   ],
   "source": [
    "df4 = pd.DataFrame(columns=['target', 'mean', 'stdev'])\n",
    "df4.loc[uuid.uuid4()] = ['TCap', .5, .1]\n",
    "df4"
   ]
  },
  {
   "cell_type": "code",
   "execution_count": 87,
   "metadata": {},
   "outputs": [
    {
     "data": {
      "text/html": [
       "<div>\n",
       "<style scoped>\n",
       "    .dataframe tbody tr th:only-of-type {\n",
       "        vertical-align: middle;\n",
       "    }\n",
       "\n",
       "    .dataframe tbody tr th {\n",
       "        vertical-align: top;\n",
       "    }\n",
       "\n",
       "    .dataframe thead th {\n",
       "        text-align: right;\n",
       "    }\n",
       "</style>\n",
       "<table border=\"1\" class=\"dataframe\">\n",
       "  <thead>\n",
       "    <tr style=\"text-align: right;\">\n",
       "      <th></th>\n",
       "      <th>Loss Name</th>\n",
       "      <th>Frequency</th>\n",
       "      <th>Magnitude</th>\n",
       "    </tr>\n",
       "  </thead>\n",
       "  <tbody>\n",
       "    <tr>\n",
       "      <th>5a0161ae-cc68-4e57-94bc-54b2d3413de7</th>\n",
       "      <td>Reuptainal</td>\n",
       "      <td>100000</td>\n",
       "      <td>50</td>\n",
       "    </tr>\n",
       "  </tbody>\n",
       "</table>\n",
       "</div>"
      ],
      "text/plain": [
       "                                       Loss Name Frequency Magnitude\n",
       "5a0161ae-cc68-4e57-94bc-54b2d3413de7  Reuptainal    100000        50"
      ]
     },
     "execution_count": 87,
     "metadata": {},
     "output_type": "execute_result"
    }
   ],
   "source": [
    "df5 = pd.DataFrame(columns=['Loss Name', 'Frequency', 'Magnitude'])\n",
    "df5.loc[uuid.uuid4()] = ['Reuptainal', 100_000.0, 50.0]\n",
    "df5"
   ]
  },
  {
   "cell_type": "code",
   "execution_count": 88,
   "metadata": {},
   "outputs": [
    {
     "data": {
      "text/html": [
       "<div>\n",
       "<style scoped>\n",
       "    .dataframe tbody tr th:only-of-type {\n",
       "        vertical-align: middle;\n",
       "    }\n",
       "\n",
       "    .dataframe tbody tr th {\n",
       "        vertical-align: top;\n",
       "    }\n",
       "\n",
       "    .dataframe thead th {\n",
       "        text-align: right;\n",
       "    }\n",
       "</style>\n",
       "<table border=\"1\" class=\"dataframe\">\n",
       "  <thead>\n",
       "    <tr style=\"text-align: right;\">\n",
       "      <th></th>\n",
       "      <th>Name</th>\n",
       "      <th>N Simulations</th>\n",
       "      <th>Date Created</th>\n",
       "      <th>Type</th>\n",
       "    </tr>\n",
       "  </thead>\n",
       "  <tbody>\n",
       "    <tr>\n",
       "      <th>2d436313-3ed5-4074-b6aa-b85c84f4f562</th>\n",
       "      <td>Regular Model 1</td>\n",
       "      <td>1000</td>\n",
       "      <td>2019-07-06 17:23:43.647370</td>\n",
       "      <td>FairModel</td>\n",
       "    </tr>\n",
       "  </tbody>\n",
       "</table>\n",
       "</div>"
      ],
      "text/plain": [
       "                                                 Name N Simulations  \\\n",
       "2d436313-3ed5-4074-b6aa-b85c84f4f562  Regular Model 1          1000   \n",
       "\n",
       "                                                    Date Created       Type  \n",
       "2d436313-3ed5-4074-b6aa-b85c84f4f562  2019-07-06 17:23:43.647370  FairModel  "
      ]
     },
     "execution_count": 88,
     "metadata": {},
     "output_type": "execute_result"
    }
   ],
   "source": [
    "df5 = pd.DataFrame(columns=['Name', 'N Simulations', 'Date Created', 'Type'])\n",
    "df5.loc[uuid.uuid4()] = ['Regular Model 1', 1000, \"2019-07-06 17:23:43.647370\", 'FairModel']\n",
    "df5"
   ]
  },
  {
   "cell_type": "code",
   "execution_count": 89,
   "metadata": {},
   "outputs": [
    {
     "data": {
      "text/html": [
       "<div>\n",
       "<style scoped>\n",
       "    .dataframe tbody tr th:only-of-type {\n",
       "        vertical-align: middle;\n",
       "    }\n",
       "\n",
       "    .dataframe tbody tr th {\n",
       "        vertical-align: top;\n",
       "    }\n",
       "\n",
       "    .dataframe thead th {\n",
       "        text-align: right;\n",
       "    }\n",
       "</style>\n",
       "<table border=\"1\" class=\"dataframe\">\n",
       "  <thead>\n",
       "    <tr style=\"text-align: right;\">\n",
       "      <th></th>\n",
       "      <th>Mean</th>\n",
       "      <th>Stdev</th>\n",
       "      <th>Minimum</th>\n",
       "      <th>Maximum</th>\n",
       "    </tr>\n",
       "  </thead>\n",
       "  <tbody>\n",
       "    <tr>\n",
       "      <th>5341ac20-f71f-4c9d-a127-710e8a779eda</th>\n",
       "      <td>25</td>\n",
       "      <td>1</td>\n",
       "      <td>0</td>\n",
       "      <td>90</td>\n",
       "    </tr>\n",
       "  </tbody>\n",
       "</table>\n",
       "</div>"
      ],
      "text/plain": [
       "                                     Mean Stdev Minimum Maximum\n",
       "5341ac20-f71f-4c9d-a127-710e8a779eda   25     1       0      90"
      ]
     },
     "execution_count": 89,
     "metadata": {},
     "output_type": "execute_result"
    }
   ],
   "source": [
    "df6 = pd.DataFrame(columns=['Mean', 'Stdev', 'Minimum', 'Maximum'])\n",
    "df6.loc[uuid.uuid4()] = [25, 1, 0, 90]\n",
    "df6"
   ]
  },
  {
   "cell_type": "code",
   "execution_count": 90,
   "metadata": {},
   "outputs": [
    {
     "data": {
      "text/html": [
       "<div>\n",
       "<style scoped>\n",
       "    .dataframe tbody tr th:only-of-type {\n",
       "        vertical-align: middle;\n",
       "    }\n",
       "\n",
       "    .dataframe tbody tr th {\n",
       "        vertical-align: top;\n",
       "    }\n",
       "\n",
       "    .dataframe thead th {\n",
       "        text-align: right;\n",
       "    }\n",
       "</style>\n",
       "<table border=\"1\" class=\"dataframe\">\n",
       "  <thead>\n",
       "    <tr style=\"text-align: right;\">\n",
       "      <th></th>\n",
       "      <th>Mean</th>\n",
       "      <th>Stdev</th>\n",
       "      <th>Minimum</th>\n",
       "      <th>Maximum</th>\n",
       "    </tr>\n",
       "  </thead>\n",
       "  <tbody>\n",
       "    <tr>\n",
       "      <th>e100dc0a-6fd0-40e0-a6d4-8661fab83491</th>\n",
       "      <td>25</td>\n",
       "      <td>1</td>\n",
       "      <td>0</td>\n",
       "      <td>90</td>\n",
       "    </tr>\n",
       "  </tbody>\n",
       "</table>\n",
       "</div>"
      ],
      "text/plain": [
       "                                     Mean Stdev Minimum Maximum\n",
       "e100dc0a-6fd0-40e0-a6d4-8661fab83491   25     1       0      90"
      ]
     },
     "execution_count": 90,
     "metadata": {},
     "output_type": "execute_result"
    }
   ],
   "source": [
    "df7 = pd.DataFrame(columns=['Mean', 'Stdev', 'Minimum', 'Maximum'])\n",
    "df7.loc[uuid.uuid4()] = [25, 1, 0, 90]\n",
    "df7"
   ]
  },
  {
   "cell_type": "code",
   "execution_count": 91,
   "metadata": {},
   "outputs": [
    {
     "data": {
      "text/html": [
       "<div>\n",
       "<style scoped>\n",
       "    .dataframe tbody tr th:only-of-type {\n",
       "        vertical-align: middle;\n",
       "    }\n",
       "\n",
       "    .dataframe tbody tr th {\n",
       "        vertical-align: top;\n",
       "    }\n",
       "\n",
       "    .dataframe thead th {\n",
       "        text-align: right;\n",
       "    }\n",
       "</style>\n",
       "<table border=\"1\" class=\"dataframe\">\n",
       "  <thead>\n",
       "    <tr style=\"text-align: right;\">\n",
       "      <th></th>\n",
       "      <th>Metamodel</th>\n",
       "      <th>Model</th>\n",
       "    </tr>\n",
       "  </thead>\n",
       "  <tbody>\n",
       "    <tr>\n",
       "      <th>0</th>\n",
       "      <td>80db8061-9b81-4e92-b4c8-519fc42d4ab4</td>\n",
       "      <td>23528a0b-587e-4986-a085-70ca054f8db1</td>\n",
       "    </tr>\n",
       "  </tbody>\n",
       "</table>\n",
       "</div>"
      ],
      "text/plain": [
       "                              Metamodel                                 Model\n",
       "0  80db8061-9b81-4e92-b4c8-519fc42d4ab4  23528a0b-587e-4986-a085-70ca054f8db1"
      ]
     },
     "execution_count": 91,
     "metadata": {},
     "output_type": "execute_result"
    }
   ],
   "source": [
    "df8 = pd.DataFrame(columns=['Metamodel', 'Model'])\n",
    "df8.loc[0] = [uuid.uuid4(), uuid.uuid4()]\n",
    "df8"
   ]
  },
  {
   "cell_type": "code",
   "execution_count": null,
   "metadata": {},
   "outputs": [],
   "source": [
    "    \"name\": \"Regular Model 1\",\n",
    "    \"n_simulations\": 10000,\n",
    "    \"random_seed\": 42,\n",
    "    \"model_uuid\": \"b6c6c968-a03c-11e9-a5db-f26e0bbd6dbc\",\n",
    "    \"type\": \"FairModel\",\n",
    "    \"creation_date\": \"2019-07-06 17:23:43.647370\"\n",
    "}\n",
    "\n",
    "\n",
    "        \"model_uuid\": \"b6c6c968-a03c-11e9-a5db-f26e0bbd6dbc\",\n",
    "        \"type\": \"FairModel\",\n",
    "        \"creation_date\": \"2019-07-06 17:23:43.647370\"\n",
    "    },\n",
    "    \"Regular Model 2\": {\n",
    "        \"Loss Event Frequency\": {\n",
    "            \"mean\": 0.3,\n",
    "            \"stdev\": 0.1\n",
    "        },\n",
    "        \"Loss Magnitude\": {\n",
    "            \"low\": 2000000000,\n",
    "            \"mode\": 3000000000,\n",
    "            \"high\": 5000000000\n",
    "        },\n",
    "        \"name\": \"Regular Model 2\",\n",
    "        \"n_simulations\": 10000,\n",
    "        \"random_seed\": 42,\n",
    "        \"model_uuid\": \"b6ca98a4-a03c-11e9-8ce0-f26e0bbd6dbc\",\n",
    "        \"type\": \"FairModel\",\n",
    "        \"creation_date\": \"2019-07-06 17:23:43.672336\"\n",
    "    },\n",
    "    \"name\": \"My Meta Model!\",\n",
    "    \"model_uuid\": \"b6cce298-a03c-11e9-b79f-f26e0bbd6dbc\",\n",
    "    \"creation_date\": \"2019-07-06 17:23:43.687336\",\n",
    "    \"type\": \"FairMetaModel\"\n",
    "}"
   ]
  }
 ],
 "metadata": {
  "kernelspec": {
   "display_name": "Python 3",
   "language": "python",
   "name": "python3"
  },
  "language_info": {
   "codemirror_mode": {
    "name": "ipython",
    "version": 3
   },
   "file_extension": ".py",
   "mimetype": "text/x-python",
   "name": "python",
   "nbconvert_exporter": "python",
   "pygments_lexer": "ipython3",
   "version": "3.7.3"
  }
 },
 "nbformat": 4,
 "nbformat_minor": 2
}
