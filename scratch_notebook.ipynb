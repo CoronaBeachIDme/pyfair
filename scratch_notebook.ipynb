{
 "cells": [
  {
   "cell_type": "code",
   "execution_count": 1,
   "metadata": {
    "scrolled": false
   },
   "outputs": [],
   "source": [
    "import pyfair\n",
    "\n",
    "import matplotlib\n",
    "import matplotlib.pyplot as plt\n",
    "%matplotlib inline\n",
    "import pandas as pd\n",
    "import numpy as np\n",
    "import os"
   ]
  },
  {
   "cell_type": "code",
   "execution_count": 1,
   "metadata": {},
   "outputs": [
    {
     "ename": "ModuleNotFoundError",
     "evalue": "No module named 'pyfair.model.model_dependency'",
     "output_type": "error",
     "traceback": [
      "\u001b[1;31m---------------------------------------------------------------------------\u001b[0m",
      "\u001b[1;31mModuleNotFoundError\u001b[0m                       Traceback (most recent call last)",
      "\u001b[1;32m<ipython-input-1-f4e56df35d25>\u001b[0m in \u001b[0;36m<module>\u001b[1;34m\u001b[0m\n\u001b[1;32m----> 1\u001b[1;33m \u001b[1;32mimport\u001b[0m \u001b[0mpyfair\u001b[0m\u001b[1;33m\u001b[0m\u001b[1;33m\u001b[0m\u001b[0m\n\u001b[0m",
      "\u001b[1;32m~\\development\\pyfair\\pyfair\\__init__.py\u001b[0m in \u001b[0;36m<module>\u001b[1;34m\u001b[0m\n\u001b[0;32m      8\u001b[0m \u001b[1;32mfrom\u001b[0m \u001b[1;33m.\u001b[0m \u001b[1;32mimport\u001b[0m \u001b[0mutility\u001b[0m\u001b[1;33m\u001b[0m\u001b[1;33m\u001b[0m\u001b[0m\n\u001b[0;32m      9\u001b[0m \u001b[1;33m\u001b[0m\u001b[0m\n\u001b[1;32m---> 10\u001b[1;33m \u001b[1;32mfrom\u001b[0m \u001b[1;33m.\u001b[0m\u001b[0mmodel\u001b[0m\u001b[1;33m.\u001b[0m\u001b[0mmodel\u001b[0m \u001b[1;32mimport\u001b[0m \u001b[0mFairModel\u001b[0m\u001b[1;33m\u001b[0m\u001b[1;33m\u001b[0m\u001b[0m\n\u001b[0m\u001b[0;32m     11\u001b[0m \u001b[1;32mfrom\u001b[0m \u001b[1;33m.\u001b[0m\u001b[0mmodel\u001b[0m\u001b[1;33m.\u001b[0m\u001b[0mmeta_model\u001b[0m \u001b[1;32mimport\u001b[0m \u001b[0mFairMetaModel\u001b[0m\u001b[1;33m\u001b[0m\u001b[1;33m\u001b[0m\u001b[0m\n\u001b[0;32m     12\u001b[0m \u001b[1;32mfrom\u001b[0m \u001b[1;33m.\u001b[0m\u001b[0mutility\u001b[0m\u001b[1;33m.\u001b[0m\u001b[0mbeta_pert\u001b[0m \u001b[1;32mimport\u001b[0m \u001b[0mFairBetaPert\u001b[0m\u001b[1;33m\u001b[0m\u001b[1;33m\u001b[0m\u001b[0m\n",
      "\u001b[1;32m~\\development\\pyfair\\pyfair\\model\\model.py\u001b[0m in \u001b[0;36m<module>\u001b[1;34m\u001b[0m\n\u001b[0;32m      6\u001b[0m \u001b[1;33m\u001b[0m\u001b[0m\n\u001b[0;32m      7\u001b[0m \u001b[1;32mfrom\u001b[0m \u001b[1;33m.\u001b[0m\u001b[0mmodel_input\u001b[0m \u001b[1;32mimport\u001b[0m \u001b[0mFairDataInput\u001b[0m\u001b[1;33m\u001b[0m\u001b[1;33m\u001b[0m\u001b[0m\n\u001b[1;32m----> 8\u001b[1;33m \u001b[1;32mfrom\u001b[0m \u001b[1;33m.\u001b[0m\u001b[0mmodel_dependency\u001b[0m \u001b[1;32mimport\u001b[0m \u001b[0mFairDependencyTree\u001b[0m\u001b[1;33m\u001b[0m\u001b[1;33m\u001b[0m\u001b[0m\n\u001b[0m\u001b[0;32m      9\u001b[0m \u001b[1;32mfrom\u001b[0m \u001b[1;33m.\u001b[0m\u001b[0mmodel_calc\u001b[0m \u001b[1;32mimport\u001b[0m \u001b[0mFairCalculations\u001b[0m\u001b[1;33m\u001b[0m\u001b[1;33m\u001b[0m\u001b[0m\n\u001b[0;32m     10\u001b[0m \u001b[1;32mfrom\u001b[0m \u001b[1;33m.\u001b[0m\u001b[1;33m.\u001b[0m\u001b[0mutility\u001b[0m\u001b[1;33m.\u001b[0m\u001b[0mfair_exception\u001b[0m \u001b[1;32mimport\u001b[0m \u001b[0mFairException\u001b[0m\u001b[1;33m\u001b[0m\u001b[1;33m\u001b[0m\u001b[0m\n",
      "\u001b[1;31mModuleNotFoundError\u001b[0m: No module named 'pyfair.model.model_dependency'"
     ]
    }
   ],
   "source": [
    "import pyfair"
   ]
  },
  {
   "cell_type": "code",
   "execution_count": null,
   "metadata": {
    "scrolled": false
   },
   "outputs": [],
   "source": [
    "model1 = pyfair.FairModel(name=\"HA1\", n_simulations=10_000)\n",
    "model1.input_data('Loss Event Frequency', low=20, mode=100, high=900)\n",
    "model1.input_data('Probable Loss Magnitude', low=3_000_000, mode=3_500_000, high=5_000_000)\n",
    "model1.calculate_all()\n",
    "\n",
    "model2 = pyfair.FairModel(name=\"HA2\", n_simulations=10_000)\n",
    "model2.input_data('Loss Event Frequency', low=.5, mode=.7, high=.9)\n",
    "model2.input_data('Probable Loss Magnitude', low=2_000_000_000, mode=3_000_000_000, high=5_000_000_000)\n",
    "model2.calculate_all()\n",
    "\n",
    "model3 = pyfair.FairModel(name=\"HA3\", n_simulations=10_000)\n",
    "model3.input_data('Loss Event Frequency', low=10, mode=15, high=16)\n",
    "model3.input_data('Probable Loss Magnitude', low=500_000_000, mode=500_900_000, high=600_000_000)\n",
    "model3.calculate_all()\n",
    "\n",
    "#fr = FairReport(model1)\n",
    "#fr.to_html('C:/Users/theon/Desktop/report.html')\n",
    "results = model1.export_results()\n",
    "node_statuses = model1.get_node_statuses()\n",
    "\n",
    "mm = pyfair.FairMetaModel(name='My Meta Model!', models=[model1, model3])\n",
    "mm.calculate_all()\n",
    "\n",
    "fsr = pyfair.FairSimpleReport([model2, mm])\n",
    "fsr.to_html('output.html')"
   ]
  },
  {
   "cell_type": "code",
   "execution_count": null,
   "metadata": {},
   "outputs": [],
   "source": [
    "mm = pyfair.FairMetaModel(name='My Meta Model!', models=[model1, model2])\n",
    "mm.calculate_all()\n",
    "\n",
    "fsr = pyfair.FairSimpleReport([model2, mm])\n",
    "fsr.to_html('output.html')"
   ]
  },
  {
   "cell_type": "markdown",
   "metadata": {},
   "source": [
    "# Components\n",
    "\n",
    "<section header and metadata>\n",
    "\n",
    "<section overview>\n",
    "\n",
    "* Summary General\n",
    "    * Summary Table (mean, stdev, low, high, n)\n",
    "    * hist\n",
    "    * Exceedence curves\n",
    "* Summary Comparison\n",
    "    * Summary Table (mean, stdev, low, high, n)\n",
    "    * Summary Table 2\n",
    "    * Combined Hist\n",
    "    * Exceedence curves\n",
    "    \n",
    "<section parameters>\n",
    "\n",
    "* Model Detail\n",
    "    * Parameter table with distributions\n",
    "* Metamodel Detail\n",
    "    * Risk table with stacked area\n",
    "    \n",
    "<section> and source code\n",
    "* JSON\n",
    "\n",
    "# Reports\n",
    "* Compare\n",
    "* Single\n",
    "* Metamodel Drilldown"
   ]
  },
  {
   "cell_type": "code",
   "execution_count": null,
   "metadata": {},
   "outputs": [],
   "source": [
    "\n",
    "pd.DataFrame({\n",
    "    model1.get_name(): model1.export_results()['Risk'],\n",
    "    model2.get_name(): model2.export_results()['Risk'],    \n",
    "}).agg([np.mean, np.std, np.min, np.max])\n",
    "\n"
   ]
  },
  {
   "cell_type": "code",
   "execution_count": null,
   "metadata": {},
   "outputs": [],
   "source": [
    "from pyfair.report.distribution import FairDistributionCurve\n",
    "\n",
    "fdc = FairDistributionCurve([model1, model2, model3])\n",
    "#fig, ax = fdc.generate_image()\n",
    "\n",
    "fig, ax = fdc.generate_image()\n",
    "fdc.generate_icon('HA1', 'Risk')"
   ]
  },
  {
   "cell_type": "code",
   "execution_count": null,
   "metadata": {},
   "outputs": [],
   "source": []
  },
  {
   "cell_type": "code",
   "execution_count": null,
   "metadata": {
    "scrolled": false
   },
   "outputs": [],
   "source": [
    "from pyfair.report.exceedence import FairExceedenceCurves\n",
    "\n",
    "fpc = FairExceedenceCurves([model1, model2, model3])\n",
    "fig1, ax1 = fpc.generate_image()"
   ]
  },
  {
   "cell_type": "code",
   "execution_count": 5,
   "metadata": {},
   "outputs": [],
   "source": [
    "import numpy as np"
   ]
  },
  {
   "cell_type": "code",
   "execution_count": 3,
   "metadata": {},
   "outputs": [
    {
     "data": {
      "text/plain": [
       "'func1'"
      ]
     },
     "execution_count": 3,
     "metadata": {},
     "output_type": "execute_result"
    },
    {
     "data": {
      "text/plain": [
       "'func1'"
      ]
     },
     "execution_count": 3,
     "metadata": {},
     "output_type": "execute_result"
    }
   ],
   "source": []
  },
  {
   "cell_type": "code",
   "execution_count": 8,
   "metadata": {},
   "outputs": [],
   "source": [
    "import scipy.stats\n",
    "\n",
    "import numpy as np\n",
    "import pandas as pd\n",
    "\n",
    "#from ..utility.fair_exception import FairException\n",
    "#from ..utility.beta_pert import FairBetaPert\n",
    "from pyfair.utility import FairException\n",
    "from pyfair.utility import FairBetaPert\n",
    "\n",
    "\n",
    "\n",
    "class FairDataInput(object):\n",
    "    '''Data entry and validation.\n",
    "    \n",
    "    TODO: confirm accuracy of these function mappings.\n",
    "    \n",
    "    '''\n",
    "    \n",
    "    def __init__(self):\n",
    "        # These targets must be less than or equal to one\n",
    "        self._le_1_targets = ['Contact', 'Action', 'Vulnerability', 'Control Strength']\n",
    "        self._le_1_keywords = ['constant', 'high', 'mode', 'low', 'mean', 'p']\n",
    "        # Parameter map associates parameters with functions\n",
    "        self._parameter_map = {\n",
    "            'constant': self._gen_constant,\n",
    "            'high'    : self._gen_pert,\n",
    "            'mode'    : self._gen_pert,\n",
    "            'low'     : self._gen_pert,\n",
    "            'gamma'   : self._gen_pert,\n",
    "            'mean'    : self._gen_normal,\n",
    "            'stdev'   : self._gen_normal,\n",
    "            'p'       : self._gen_bernoulli,\n",
    "        }\n",
    "        # Vulnerability is bernoulli only.\n",
    "        self._bernoulli_targets = ['Vulnerability']\n",
    "        # List of keywords with function keys\n",
    "        self._required_keywords = {\n",
    "            self._gen_constant : ['constant'],\n",
    "            self._gen_pert     : ['low', 'mode', 'high'],\n",
    "            self._gen_normal   : ['mean', 'stdev'],\n",
    "            self._gen_bernoulli: ['p']\n",
    "        }  \n",
    "        # Storage of inputs\n",
    "        self._supplied_values = {}\n",
    "\n",
    "    def get_supplied_values(self):\n",
    "        '''Fetch params'''\n",
    "        return self._supplied_values\n",
    "    \n",
    "    def _check_le_1(self, target, **kwargs):\n",
    "        '''Checks if certain keyword arguments are less than 1'''\n",
    "        # For every keyword argument\n",
    "        for key, value in kwargs.items():\n",
    "            # If key is in specified list\n",
    "            if key in self._le_1_keywords:\n",
    "                # Check if value is less than or equal to 1\n",
    "                if 0.0 <= value <= 1.0:\n",
    "                    pass\n",
    "                # If not, raise error\n",
    "                else:\n",
    "                    raise FairException('\"{}\" must have \"{}\" value between zero and one.'.format(target, key))\n",
    "\n",
    "    def _check_parameters(self, target_function, **kwargs):\n",
    "        '''Look up keywords based on function type'''\n",
    "        required_keywords = self._required_keywords[target_function]\n",
    "        for required_keyword in required_keywords:\n",
    "            if required_keyword in kwargs.keys():\n",
    "                pass\n",
    "            else:\n",
    "                raise FairException('\"{}\" is missing \"{}\".'.format(str(target_function), required_keyword))\n",
    "\n",
    "    def generate(self, target, count, **kwargs):\n",
    "        '''Function for dispatching a generation request'''\n",
    "        # If destined for a le_1_target, check validity.\n",
    "        if target in self._le_1_targets:\n",
    "            self._check_le_1(target, **kwargs)\n",
    "        # If target is bernoulli, shunt into that function.\n",
    "        if target in self._bernoulli_targets:\n",
    "            results = self._gen_bernoulli(count, **kwargs)\n",
    "        else:\n",
    "            # Otherwise figure out what function\n",
    "            func = self._determine_func(**kwargs)\n",
    "            # Check to make sure sufficient parameters exist\n",
    "            self._check_parameters(func, **kwargs)\n",
    "            # Run the function\n",
    "            results = func(count, **kwargs)\n",
    "        # Record params\n",
    "        self._supplied_values[target] = {**kwargs}\n",
    "        return results\n",
    "            \n",
    "    def _determine_func(self, **kwargs):\n",
    "        '''This function takes keywords and determines function'''\n",
    "        # Check whether keys are recognized\n",
    "        for key in kwargs.keys():\n",
    "            if not key in self._parameter_map.keys():\n",
    "                raise FairException('\"{}\"\" is not a recognized keyword'.format(key))\n",
    "        # Check whether all keys go to same function via set comprension\n",
    "        functions = list(set([\n",
    "            self._parameter_map[key]\n",
    "            for key\n",
    "            in kwargs.keys()\n",
    "        ]))\n",
    "        if len(functions) > 1:\n",
    "            raise FairException('\"{}\" mixes incompatible keywords.'.format(str(kwargs.keys())))\n",
    "        else:\n",
    "            function = functions[0]\n",
    "            return function\n",
    "\n",
    "    def _gen_bernoulli(self, count, **kwargs):\n",
    "        # No check required as 0 to 1 is already esablished\n",
    "        bernoulli = scipy.stats.bernoulli(**kwargs)\n",
    "        rvs = bernoulli.rvs(count)\n",
    "        return rvs\n",
    "    \n",
    "    def _gen_constant(self, count, **kwargs):\n",
    "        return np.full(count, kwargs['constant'])\n",
    "    \n",
    "    def _gen_normal(self, count, **kwargs):\n",
    "        normal = scipy.stats.norm(loc=kwargs['mean'], scale=kwargs['stdev'])\n",
    "        rvs = normal.rvs(count)\n",
    "        # Clip out of range values\n",
    "        clipped_rvs = np.clip(rvs, 0.0, 1.0)\n",
    "        return clipped_rvs\n",
    "    \n",
    "    def _gen_pert(self, count, **kwargs):\n",
    "        self._check_pert(**kwargs)\n",
    "        pert = FairBetaPert(**kwargs)\n",
    "        rvs = pert.random_variates(count)\n",
    "        return rvs\n",
    "    \n",
    "    def _check_pert(self, **kwargs):\n",
    "        conditions = {\n",
    "            'mode >= low'  : kwargs['mode'] >= kwargs['low'],\n",
    "            'high >= mode' : kwargs['high'] >= kwargs['mode'],\n",
    "        }\n",
    "        for condition_name, condition_value in conditions.items():\n",
    "            if condition_value == False:\n",
    "                err = 'Param \"{}\" fails PERT requirement \"{}\".'.format(kwargs, condition_name)\n",
    "                raise FairException(err)\n"
   ]
  },
  {
   "cell_type": "code",
   "execution_count": 15,
   "metadata": {},
   "outputs": [
    {
     "ename": "FairException",
     "evalue": "Control Strength must have high value between zero and one.",
     "output_type": "error",
     "traceback": [
      "\u001b[1;31m---------------------------------------------------------------------------\u001b[0m",
      "\u001b[1;31mFairException\u001b[0m                             Traceback (most recent call last)",
      "\u001b[1;32m<ipython-input-15-f8990aad9c3a>\u001b[0m in \u001b[0;36m<module>\u001b[1;34m\u001b[0m\n\u001b[0;32m      4\u001b[0m \u001b[1;33m\u001b[0m\u001b[0m\n\u001b[0;32m      5\u001b[0m \u001b[0mfdi\u001b[0m \u001b[1;33m=\u001b[0m \u001b[0mFairDataInput\u001b[0m\u001b[1;33m(\u001b[0m\u001b[1;33m)\u001b[0m\u001b[1;33m\u001b[0m\u001b[1;33m\u001b[0m\u001b[0m\n\u001b[1;32m----> 6\u001b[1;33m \u001b[0mdata\u001b[0m \u001b[1;33m=\u001b[0m \u001b[0mfdi\u001b[0m\u001b[1;33m.\u001b[0m\u001b[0mgenerate\u001b[0m\u001b[1;33m(\u001b[0m\u001b[1;34m'Control Strength'\u001b[0m\u001b[1;33m,\u001b[0m \u001b[0mcount\u001b[0m\u001b[1;33m=\u001b[0m\u001b[1;36m10_000\u001b[0m\u001b[1;33m,\u001b[0m \u001b[0mlow\u001b[0m\u001b[1;33m=\u001b[0m\u001b[1;36m.2\u001b[0m\u001b[1;33m,\u001b[0m \u001b[0mhigh\u001b[0m\u001b[1;33m=\u001b[0m\u001b[1;36m1.5\u001b[0m\u001b[1;33m,\u001b[0m \u001b[0mmode\u001b[0m\u001b[1;33m=\u001b[0m\u001b[1;36m.4\u001b[0m\u001b[1;33m)\u001b[0m\u001b[1;33m\u001b[0m\u001b[1;33m\u001b[0m\u001b[0m\n\u001b[0m\u001b[0;32m      7\u001b[0m \u001b[1;33m\u001b[0m\u001b[0m\n\u001b[0;32m      8\u001b[0m \u001b[0mplt\u001b[0m\u001b[1;33m.\u001b[0m\u001b[0mhist\u001b[0m\u001b[1;33m(\u001b[0m\u001b[0mdata\u001b[0m\u001b[1;33m)\u001b[0m\u001b[1;33m\u001b[0m\u001b[1;33m\u001b[0m\u001b[0m\n",
      "\u001b[1;32m<ipython-input-8-a6277ad2e3c1>\u001b[0m in \u001b[0;36mgenerate\u001b[1;34m(self, target, count, **kwargs)\u001b[0m\n\u001b[0;32m     75\u001b[0m         \u001b[1;31m# If destined for a le_1_target, check validity.\u001b[0m\u001b[1;33m\u001b[0m\u001b[1;33m\u001b[0m\u001b[1;33m\u001b[0m\u001b[0m\n\u001b[0;32m     76\u001b[0m         \u001b[1;32mif\u001b[0m \u001b[0mtarget\u001b[0m \u001b[1;32min\u001b[0m \u001b[0mself\u001b[0m\u001b[1;33m.\u001b[0m\u001b[0m_le_1_targets\u001b[0m\u001b[1;33m:\u001b[0m\u001b[1;33m\u001b[0m\u001b[1;33m\u001b[0m\u001b[0m\n\u001b[1;32m---> 77\u001b[1;33m             \u001b[0mself\u001b[0m\u001b[1;33m.\u001b[0m\u001b[0m_check_le_1\u001b[0m\u001b[1;33m(\u001b[0m\u001b[0mtarget\u001b[0m\u001b[1;33m,\u001b[0m \u001b[1;33m**\u001b[0m\u001b[0mkwargs\u001b[0m\u001b[1;33m)\u001b[0m\u001b[1;33m\u001b[0m\u001b[1;33m\u001b[0m\u001b[0m\n\u001b[0m\u001b[0;32m     78\u001b[0m         \u001b[1;31m# If target is bernoulli, shunt into that function.\u001b[0m\u001b[1;33m\u001b[0m\u001b[1;33m\u001b[0m\u001b[1;33m\u001b[0m\u001b[0m\n\u001b[0;32m     79\u001b[0m         \u001b[1;32mif\u001b[0m \u001b[0mtarget\u001b[0m \u001b[1;32min\u001b[0m \u001b[0mself\u001b[0m\u001b[1;33m.\u001b[0m\u001b[0m_bernoulli_targets\u001b[0m\u001b[1;33m:\u001b[0m\u001b[1;33m\u001b[0m\u001b[1;33m\u001b[0m\u001b[0m\n",
      "\u001b[1;32m<ipython-input-8-a6277ad2e3c1>\u001b[0m in \u001b[0;36m_check_le_1\u001b[1;34m(self, target, **kwargs)\u001b[0m\n\u001b[0;32m     60\u001b[0m                 \u001b[1;31m# If not, raise error\u001b[0m\u001b[1;33m\u001b[0m\u001b[1;33m\u001b[0m\u001b[1;33m\u001b[0m\u001b[0m\n\u001b[0;32m     61\u001b[0m                 \u001b[1;32melse\u001b[0m\u001b[1;33m:\u001b[0m\u001b[1;33m\u001b[0m\u001b[1;33m\u001b[0m\u001b[0m\n\u001b[1;32m---> 62\u001b[1;33m                     \u001b[1;32mraise\u001b[0m \u001b[0mFairException\u001b[0m\u001b[1;33m(\u001b[0m\u001b[1;34m'{} must have {} value between zero and one.'\u001b[0m\u001b[1;33m.\u001b[0m\u001b[0mformat\u001b[0m\u001b[1;33m(\u001b[0m\u001b[0mtarget\u001b[0m\u001b[1;33m,\u001b[0m \u001b[0mkey\u001b[0m\u001b[1;33m)\u001b[0m\u001b[1;33m)\u001b[0m\u001b[1;33m\u001b[0m\u001b[1;33m\u001b[0m\u001b[0m\n\u001b[0m\u001b[0;32m     63\u001b[0m \u001b[1;33m\u001b[0m\u001b[0m\n\u001b[0;32m     64\u001b[0m     \u001b[1;32mdef\u001b[0m \u001b[0m_check_parameters\u001b[0m\u001b[1;33m(\u001b[0m\u001b[0mself\u001b[0m\u001b[1;33m,\u001b[0m \u001b[0mtarget_function\u001b[0m\u001b[1;33m,\u001b[0m \u001b[1;33m**\u001b[0m\u001b[0mkwargs\u001b[0m\u001b[1;33m)\u001b[0m\u001b[1;33m:\u001b[0m\u001b[1;33m\u001b[0m\u001b[1;33m\u001b[0m\u001b[0m\n",
      "\u001b[1;31mFairException\u001b[0m: Control Strength must have high value between zero and one."
     ]
    }
   ],
   "source": [
    "import matplotlib\n",
    "%matplotlib inline\n",
    "import matplotlib.pyplot as plt\n",
    "\n",
    "fdi = FairDataInput()\n",
    "data = fdi.generate('Control Strength', count=10_000, low=.2, high=1.5, mode=.4)\n",
    "\n",
    "plt.hist(data)"
   ]
  },
  {
   "cell_type": "code",
   "execution_count": null,
   "metadata": {},
   "outputs": [],
   "source": []
  }
 ],
 "metadata": {
  "kernelspec": {
   "display_name": "Python 3",
   "language": "python",
   "name": "python3"
  },
  "language_info": {
   "codemirror_mode": {
    "name": "ipython",
    "version": 3
   },
   "file_extension": ".py",
   "mimetype": "text/x-python",
   "name": "python",
   "nbconvert_exporter": "python",
   "pygments_lexer": "ipython3",
   "version": "3.6.7"
  }
 },
 "nbformat": 4,
 "nbformat_minor": 2
}
