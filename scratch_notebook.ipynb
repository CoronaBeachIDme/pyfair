{
 "cells": [
  {
   "cell_type": "code",
   "execution_count": 1,
   "metadata": {},
   "outputs": [],
   "source": [
    "import pyfair\n",
    "\n",
    "import matplotlib\n",
    "import matplotlib.pyplot as plt\n",
    "%matplotlib inline\n",
    "import pandas as pd\n",
    "import numpy as np\n",
    "import os"
   ]
  },
  {
   "cell_type": "code",
   "execution_count": 2,
   "metadata": {},
   "outputs": [],
   "source": [
    "from pyfair.report.individual import FairReport"
   ]
  },
  {
   "cell_type": "code",
   "execution_count": 3,
   "metadata": {},
   "outputs": [],
   "source": [
    "model1 = pyfair.FairModel(name=\"HA\", n_simulations=10_000)\n",
    "model1.input_data('Loss Event Frequency', low=.01, mode=.2, high=.5)\n",
    "model1.input_data('Probable Loss Magnitude', low=1, mode=1_000_000, high=10_000_000)\n",
    "model1.calculate_all()\n",
    "\n",
    "\n",
    "fr = FairReport(model1)\n",
    "fr.to_html('C:/Users/theon/Desktop/report.html')"
   ]
  },
  {
   "cell_type": "code",
   "execution_count": 6,
   "metadata": {},
   "outputs": [],
   "source": [
    "data = fbr.base64ify('C:/Users/theon/Pictures/strawberry_thief_tile_2.png')\n",
    "\n",
    "with open('C:/Users/theon/Desktop/output.html', 'w+') as f:\n",
    "    f.write('<html>' + data + '</html>')"
   ]
  },
  {
   "cell_type": "code",
   "execution_count": 6,
   "metadata": {},
   "outputs": [
    {
     "data": {
      "text/plain": [
       "'FairReport'"
      ]
     },
     "execution_count": 6,
     "metadata": {},
     "output_type": "execute_result"
    }
   ],
   "source": []
  },
  {
   "cell_type": "code",
   "execution_count": 3,
   "metadata": {},
   "outputs": [],
   "source": [
    "model1 = pyfair.FairModel(name=\"HA\", n_simulations=10_000)\n",
    "model1.input_data('Loss Event Frequency', low=.01, mode=.2, high=.5)\n",
    "model1.input_data('Probable Loss Magnitude', low=1, mode=1_000_000, high=10_000_000)\n",
    "model1.calculate_all()\n",
    "\n",
    "model2 = pyfair.FairModel(name=\"NOT HA\", n_simulations=10_000)\n",
    "model2.input_data('Loss Event Frequency', low=.01, mode=.2, high=.5)\n",
    "model2.input_data('Probable Loss Magnitude', low=1, mode=1_000_000, high=10_000_000)\n",
    "model2.calculate_all()\n",
    "\n",
    "\n",
    "meta1 = pyfair.FairMetaModel('Metamodel', [model1, model2])\n",
    "out_json = pyfair.FairMetaModel('Metamodel2', [model1, meta1])"
   ]
  },
  {
   "cell_type": "code",
   "execution_count": 4,
   "metadata": {},
   "outputs": [
    {
     "data": {
      "text/plain": [
       "\"<class 'pyfair.model.meta_model.FairMetaModel'>\""
      ]
     },
     "execution_count": 4,
     "metadata": {},
     "output_type": "execute_result"
    }
   ],
   "source": [
    "str(type(meta1))"
   ]
  },
  {
   "cell_type": "code",
   "execution_count": 5,
   "metadata": {},
   "outputs": [],
   "source": [
    "import pandas as pd\n",
    "\n",
    "import os\n",
    "\n",
    "\n",
    "\n",
    "\n",
    "STYLE = r'''\n",
    "\n",
    "#metadata_table {\n",
    "    display: flex;\n",
    "}\n",
    "\n",
    ".fair_table {\n",
    "    font-size: 11pt; \n",
    "    font-family: Arial;\n",
    "    border-collapse: collapse; \n",
    "    border: 1px solid silver;\n",
    "\n",
    "}\n",
    "\n",
    ".fair_table td, th {\n",
    "    padding: 2px;\n",
    "}\n",
    "\n",
    ".fair_table tr:nth-child(even) {\n",
    "    background: #E0E0E0;\n",
    "}\n",
    "\n",
    ".fair_table th {\n",
    "    text-align: left\n",
    "}\n",
    "\n",
    "#band {\n",
    "    background-color: navy;\n",
    "    display: flex;\n",
    "    flex-direction: row;\n",
    "    width: 100%;\n",
    "}\n",
    "\n",
    "#metadata_and_canvas {\n",
    "    display: flex;\n",
    "    flex-direction: row;\n",
    "    width: 100%;\n",
    "    padding: 10px 0px 10px 0px;\n",
    "}\n",
    "\n",
    "#title {\n",
    "    color: white;\n",
    "    font-family: Arial;\n",
    "    text-align: center;\n",
    "    vertical-align: middle;\n",
    "}\n",
    "\n",
    "#tree_diagram {\n",
    "    border:1px solid silver;\n",
    "}\n",
    "\n",
    "#main {\n",
    "    display: flex;\n",
    "    flex-direction: column;\n",
    "}\n",
    "\n",
    "'''\n",
    "\n",
    "\n",
    "HTML_REPORT = f'''\n",
    "\n",
    "<head>\n",
    "\n",
    "<style>{STYLE}</style>\n",
    "\n",
    "</head>\n",
    "\n",
    "<body>\n",
    "    <div id=\"main\">\n",
    "        <div id=\"band\">\n",
    "            <div id=\"python_img_container\">\n",
    "                <img id=\"python_img\" src=\"C:/Users/theon/Desktop/white_python_logo.svg\">\n",
    "            </div>\n",
    "            <div style=\"flex-grow: 1;\">\n",
    "                <h1 id=\"title\">FAIR Report</h1>\n",
    "            </div>\n",
    "        </div>\n",
    "        <div id='metadata_and_canvas'>\n",
    "\n",
    "            <div>\n",
    "                <canvas id=\"tree_diagram\" width=\"400\" height=\"100\"></canvas> \n",
    "            </div>\n",
    "            <div id=\"metadata_table\">\n",
    "                {metadata}\n",
    "            </div>\n",
    "            \n",
    "        </div>\n",
    "    </div>\n",
    "</body>\n",
    "\n",
    "'''\n",
    "\n",
    "with open('C:/Users/theon/Desktop/report.html', 'w+') as f:\n",
    "    f.write(HTML_REPORT)"
   ]
  },
  {
   "cell_type": "code",
   "execution_count": null,
   "metadata": {},
   "outputs": [],
   "source": [
    "'''\n",
    "FairModel\n",
    "    Just one\n",
    "FairAddititveMetaModel\n",
    "    Add all the risks together and display with components\n",
    "FairComparativeMetaModel\n",
    "    Put risks side by side\n",
    "    \n",
    "Mu, Sigma for Risk\n",
    "\n",
    "Model Params\n",
    "\n",
    "Source\n",
    "'''"
   ]
  },
  {
   "cell_type": "code",
   "execution_count": 7,
   "metadata": {},
   "outputs": [
    {
     "data": {
      "text/html": [
       "<div>\n",
       "<style scoped>\n",
       "    .dataframe tbody tr th:only-of-type {\n",
       "        vertical-align: middle;\n",
       "    }\n",
       "\n",
       "    .dataframe tbody tr th {\n",
       "        vertical-align: top;\n",
       "    }\n",
       "\n",
       "    .dataframe thead th {\n",
       "        text-align: right;\n",
       "    }\n",
       "</style>\n",
       "<table border=\"1\" class=\"dataframe\">\n",
       "  <thead>\n",
       "    <tr style=\"text-align: right;\">\n",
       "      <th></th>\n",
       "      <th>0</th>\n",
       "    </tr>\n",
       "  </thead>\n",
       "  <tbody>\n",
       "    <tr>\n",
       "      <th>Author</th>\n",
       "      <td>theon</td>\n",
       "    </tr>\n",
       "    <tr>\n",
       "      <th>Generated</th>\n",
       "      <td>2019-05-13 08:25:21</td>\n",
       "    </tr>\n",
       "    <tr>\n",
       "      <th>PyFair Version</th>\n",
       "      <td>0.0.1</td>\n",
       "    </tr>\n",
       "  </tbody>\n",
       "</table>\n",
       "</div>"
      ],
      "text/plain": [
       "                                  0\n",
       "Author                        theon\n",
       "Generated       2019-05-13 08:25:21\n",
       "PyFair Version                0.0.1"
      ]
     },
     "execution_count": 7,
     "metadata": {},
     "output_type": "execute_result"
    }
   ],
   "source": [
    "metadata = pd.Series(\n",
    "    {\n",
    "        'Author': os.environ['USERNAME'],\n",
    "        'Generated': str(pd.datetime.now()).partition('.')[0],\n",
    "        'PyFair Version': pyfair.VERSION\n",
    "    }\n",
    ").to_frame()\n",
    "\n",
    "metadata"
   ]
  },
  {
   "cell_type": "code",
   "execution_count": null,
   "metadata": {},
   "outputs": [],
   "source": [
    "#### Left third, provided data. RIght 2/3rds, tree\n",
    "model2 = pyfair.read_json(results)\n",
    "params = model2.export_params()\n",
    "data = model2.export_results()\n",
    "del params['Creation Datetime']\n",
    "df = pd.DataFrame.from_dict(params)\n",
    "df = df.reindex(['low', 'mode', 'high', 'p'])\n",
    "df.index = df.index.str.title()\n",
    "df"
   ]
  },
  {
   "cell_type": "code",
   "execution_count": null,
   "metadata": {},
   "outputs": [],
   "source": [
    "derived = df.agg([np.mean, np.std, np.min, np.max])\n",
    "derived.index = ['μ', 'σ', 'Minimum', 'Maximum']\n",
    "\n",
    "final_data = pd.concat([derived, df], axis=0)\n",
    "final_data = final_data.dropna()\n",
    "\n",
    "# If Column as data greater than 1,\n",
    "condition = final_data.max() > 1\n",
    "\n",
    "# Get True Clumns\n",
    "true_col = condition.loc[condition].index.values\n",
    "\n",
    "#Get False COlumns\n",
    "false_col = condition.loc[~condition].index.values\n",
    "\n",
    "# If false, it's between 0 and 1. 3 decimals\n",
    "final_data[false_col] = final_data[false_col]\n",
    "final_data[false_col] = final_data[false_col].applymap(lambda x: '{0:.3f}'.format(x))\n",
    "\n",
    "# If true, get the max digits and round\n",
    "final_data[true_col] = final_data[true_col].astype(int)\n",
    "final_data[true_col] = final_data[true_col].applymap(lambda x: '{0:,}'.format(x))\n",
    "\n",
    "for column in ['Probable Loss Magnitude', 'Risk']:\n",
    "    if column in final_data.columns:\n",
    "        final_data[column] = '$' + final_data[column]\n",
    "\n",
    "final_data.T"
   ]
  },
  {
   "cell_type": "code",
   "execution_count": null,
   "metadata": {},
   "outputs": [],
   "source": [
    "model3 = pyfair.read_json(results)\n",
    "df3 = model3.export_results()\n",
    "risk = df3['Risk']\n",
    "risk_d = risk.agg([np.mean, np.std, np.min, np.max]).astype(int)\n",
    "risk_d.index = ['μ', 'σ', 'Minimum', 'Maximum']\n",
    "\n",
    "pd.DataFrame(risk_d).T.applymap(lambda x: '${0:,}'.format(x))"
   ]
  },
  {
   "cell_type": "code",
   "execution_count": null,
   "metadata": {},
   "outputs": [],
   "source": [
    "# Draw curves?\n",
    "model3.__class__"
   ]
  },
  {
   "cell_type": "code",
   "execution_count": null,
   "metadata": {},
   "outputs": [],
   "source": [
    "dollar_format_string     = '${0:,}'\n",
    "integer_format_string    = '{0:,}'\n",
    "percentage_format_string = '{0:.3f}'\n",
    "format_strings = {\n",
    "    'Risk'                        : dollar_format_string,\n",
    "    'Loss Event Frequency'        : integer_format_string,\n",
    "    'Threat Event Frequency'      : integer_format_string,\n",
    "    'Vulnerability'               : integer_format_string,         \n",
    "    'Contact'                     : percentage_format_string,\n",
    "    'Action'                      : percentage_format_string,\n",
    "    'Threat Capability'           : percentage_format_string,\n",
    "    'Control Strength'            : percentage_format_string,\n",
    "    'Probable Loss Magnitude'     : dollar_format_string,\n",
    "    'Primary Loss Factors'        : dollar_format_string,\n",
    "    'Asset Loss Factors'          : dollar_format_string,\n",
    "    'Threat Loss Factors'         : dollar_format_string,\n",
    "    'Secondary Loss Factors'      : dollar_format_string,\n",
    "    'Organizational Loss Factors' : dollar_format_string,\n",
    "    'External Loss Factors'       : dollar_format_string,\n",
    "}"
   ]
  },
  {
   "cell_type": "markdown",
   "metadata": {},
   "source": [
    "SINGLE\n",
    "    header\n",
    "    meta\n",
    "    left third, risk top then params. right 2/3, tree diagram\n",
    "    left have loss excedence, right half exceedence probability\n",
    "    code\n",
    "    \n",
    "COMPARISON\n",
    "    header\n",
    "    meta\n",
    "    left third, risk top then params for each. right 2/3, tree diagram\n",
    "    left have loss excedence, right half exceedence probability\n",
    "    code\n",
    "\n",
    "ADDITIVE\n",
    "    header\n",
    "    meta\n",
    "    for each:\n",
    "        left third, risk top then params. right 2/3, tree diagram\n",
    "        left have loss excedence, right half exceedence probability\n",
    "    for all:\n",
    "        loss exceedence and exceedence probability and \n",
    "        risk\n",
    "    code"
   ]
  },
  {
   "cell_type": "code",
   "execution_count": null,
   "metadata": {},
   "outputs": [],
   "source": [
    "class FairBasic()"
   ]
  },
  {
   "cell_type": "code",
   "execution_count": null,
   "metadata": {},
   "outputs": [],
   "source": [
    "uuid.uuid1()"
   ]
  },
  {
   "cell_type": "code",
   "execution_count": null,
   "metadata": {},
   "outputs": [],
   "source": [
    "import os\n",
    "import subprocess\n",
    "import tempfile\n",
    "\n",
    "td = tempfile.mkdtemp()\n",
    "tf = tempfile.NamedTemporaryFile(dir=td, mode='w+')\n",
    "os.chdir(td)\n",
    "\n",
    "tf.write('LATEX!')\n",
    "\n",
    "os.listdir(td)\n",
    "\n",
    "p = subprocess.run(['dir', str(td)])"
   ]
  },
  {
   "cell_type": "code",
   "execution_count": null,
   "metadata": {},
   "outputs": [],
   "source": [
    "p.read()"
   ]
  },
  {
   "cell_type": "code",
   "execution_count": null,
   "metadata": {},
   "outputs": [],
   "source": [
    "td"
   ]
  },
  {
   "cell_type": "code",
   "execution_count": null,
   "metadata": {},
   "outputs": [],
   "source": []
  }
 ],
 "metadata": {
  "kernelspec": {
   "display_name": "Python 3",
   "language": "python",
   "name": "python3"
  },
  "language_info": {
   "codemirror_mode": {
    "name": "ipython",
    "version": 3
   },
   "file_extension": ".py",
   "mimetype": "text/x-python",
   "name": "python",
   "nbconvert_exporter": "python",
   "pygments_lexer": "ipython3",
   "version": "3.6.7"
  }
 },
 "nbformat": 4,
 "nbformat_minor": 2
}
