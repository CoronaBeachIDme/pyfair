{
 "cells": [
  {
   "cell_type": "code",
   "execution_count": 1,
   "metadata": {},
   "outputs": [],
   "source": [
    "import pyfair"
   ]
  },
  {
   "cell_type": "code",
   "execution_count": 2,
   "metadata": {},
   "outputs": [
    {
     "ename": "FairException",
     "evalue": "Not ready for calculation. See statuses: \nRisk                                  Required\nLoss Event Frequency                  Supplied\nThreat Event Frequency            Not Required\nContact                           Not Required\nAction                            Not Required\nVulnerability                     Not Required\nControl Strength                  Not Required\nThreat Capability                 Not Required\nLoss Magnitude                        Required\nPrimary Loss                          Required\nSecondary Loss                        Required\nSecondary Loss Event Frequency        Required\nSecondary Loss Event Magnitude        Required\ndtype: object",
     "output_type": "error",
     "traceback": [
      "\u001b[1;31m---------------------------------------------------------------------------\u001b[0m",
      "\u001b[1;31mFairException\u001b[0m                             Traceback (most recent call last)",
      "\u001b[1;32m<ipython-input-2-3bd5aad8b448>\u001b[0m in \u001b[0;36m<module>\u001b[1;34m\u001b[0m\n\u001b[0;32m      7\u001b[0m     \u001b[1;34m'Loss Event Frequency'\u001b[0m\u001b[1;33m:\u001b[0m \u001b[1;33m{\u001b[0m\u001b[1;34m'mean'\u001b[0m\u001b[1;33m:\u001b[0m\u001b[1;36m.3\u001b[0m\u001b[1;33m,\u001b[0m \u001b[1;34m'stdev'\u001b[0m\u001b[1;33m:\u001b[0m\u001b[1;36m.1\u001b[0m\u001b[1;33m}\u001b[0m\u001b[1;33m,\u001b[0m\u001b[1;33m\u001b[0m\u001b[1;33m\u001b[0m\u001b[0m\n\u001b[0;32m      8\u001b[0m })\n\u001b[1;32m----> 9\u001b[1;33m \u001b[0mmodel\u001b[0m\u001b[1;33m.\u001b[0m\u001b[0mcalculate_all\u001b[0m\u001b[1;33m(\u001b[0m\u001b[1;33m)\u001b[0m\u001b[1;33m\u001b[0m\u001b[1;33m\u001b[0m\u001b[0m\n\u001b[0m\u001b[0;32m     10\u001b[0m \u001b[1;33m\u001b[0m\u001b[0m\n\u001b[0;32m     11\u001b[0m \u001b[1;33m\u001b[0m\u001b[0m\n",
      "\u001b[1;32m~\\development\\pyfair\\pyfair\\model\\model.py\u001b[0m in \u001b[0;36mcalculate_all\u001b[1;34m(self)\u001b[0m\n\u001b[0;32m    363\u001b[0m         \u001b[1;32mif\u001b[0m \u001b[1;32mnot\u001b[0m\u001b[1;33m(\u001b[0m\u001b[0mready_for_calculation\u001b[0m\u001b[1;33m)\u001b[0m\u001b[1;33m:\u001b[0m\u001b[1;33m\u001b[0m\u001b[1;33m\u001b[0m\u001b[0m\n\u001b[0;32m    364\u001b[0m             \u001b[0mstatus_str\u001b[0m \u001b[1;33m=\u001b[0m \u001b[0mstr\u001b[0m\u001b[1;33m(\u001b[0m\u001b[0mpd\u001b[0m\u001b[1;33m.\u001b[0m\u001b[0mSeries\u001b[0m\u001b[1;33m(\u001b[0m\u001b[0mself\u001b[0m\u001b[1;33m.\u001b[0m\u001b[0m_tree\u001b[0m\u001b[1;33m.\u001b[0m\u001b[0mget_node_statuses\u001b[0m\u001b[1;33m(\u001b[0m\u001b[1;33m)\u001b[0m\u001b[1;33m)\u001b[0m\u001b[1;33m)\u001b[0m\u001b[1;33m\u001b[0m\u001b[1;33m\u001b[0m\u001b[0m\n\u001b[1;32m--> 365\u001b[1;33m             \u001b[1;32mraise\u001b[0m \u001b[0mFairException\u001b[0m\u001b[1;33m(\u001b[0m\u001b[1;34m'Not ready for calculation. See statuses: \\n{}'\u001b[0m\u001b[1;33m.\u001b[0m\u001b[0mformat\u001b[0m\u001b[1;33m(\u001b[0m\u001b[0mstatus_str\u001b[0m\u001b[1;33m)\u001b[0m\u001b[1;33m)\u001b[0m\u001b[1;33m\u001b[0m\u001b[1;33m\u001b[0m\u001b[0m\n\u001b[0m\u001b[0;32m    366\u001b[0m         \u001b[0mstatus\u001b[0m \u001b[1;33m=\u001b[0m \u001b[0mpd\u001b[0m\u001b[1;33m.\u001b[0m\u001b[0mSeries\u001b[0m\u001b[1;33m(\u001b[0m\u001b[0mself\u001b[0m\u001b[1;33m.\u001b[0m\u001b[0m_tree\u001b[0m\u001b[1;33m.\u001b[0m\u001b[0mget_node_statuses\u001b[0m\u001b[1;33m(\u001b[0m\u001b[1;33m)\u001b[0m\u001b[1;33m)\u001b[0m\u001b[1;33m\u001b[0m\u001b[1;33m\u001b[0m\u001b[0m\n\u001b[0;32m    367\u001b[0m         \u001b[0mcalculable_nodes\u001b[0m \u001b[1;33m=\u001b[0m \u001b[0mstatus\u001b[0m\u001b[1;33m[\u001b[0m\u001b[0mstatus\u001b[0m \u001b[1;33m==\u001b[0m \u001b[1;34m'Calculable'\u001b[0m\u001b[1;33m]\u001b[0m\u001b[1;33m.\u001b[0m\u001b[0mindex\u001b[0m\u001b[1;33m.\u001b[0m\u001b[0mvalues\u001b[0m\u001b[1;33m.\u001b[0m\u001b[0mtolist\u001b[0m\u001b[1;33m(\u001b[0m\u001b[1;33m)\u001b[0m\u001b[1;33m\u001b[0m\u001b[1;33m\u001b[0m\u001b[0m\n",
      "\u001b[1;31mFairException\u001b[0m: Not ready for calculation. See statuses: \nRisk                                  Required\nLoss Event Frequency                  Supplied\nThreat Event Frequency            Not Required\nContact                           Not Required\nAction                            Not Required\nVulnerability                     Not Required\nControl Strength                  Not Required\nThreat Capability                 Not Required\nLoss Magnitude                        Required\nPrimary Loss                          Required\nSecondary Loss                        Required\nSecondary Loss Event Frequency        Required\nSecondary Loss Event Magnitude        Required\ndtype: object"
     ]
    }
   ],
   "source": [
    "    from pyfair import FairModel\n",
    "    \n",
    "\n",
    "    # Create an incomplete model\n",
    "    model = FairModel('Tree Test')\n",
    "    model.input_data('Loss Event Frequency', mean=5, stdev=1)\n",
    "    model.calculate_all()\n",
    "    \n",
    " "
   ]
  },
  {
   "cell_type": "code",
   "execution_count": 5,
   "metadata": {},
   "outputs": [
    {
     "data": {
      "text/plain": [
       "array([198.47586524, 150.11389796,  86.89533848])"
      ]
     },
     "execution_count": 5,
     "metadata": {},
     "output_type": "execute_result"
    }
   ],
   "source": [
    "import scipy.stats as stats\n",
    "\n",
    "s = stats.norm(loc=100, scale=50)\n",
    "s.rvs(3)"
   ]
  },
  {
   "cell_type": "code",
   "execution_count": 15,
   "metadata": {},
   "outputs": [
    {
     "data": {
      "text/plain": [
       "5319104.079542093"
      ]
     },
     "execution_count": 15,
     "metadata": {},
     "output_type": "execute_result"
    }
   ],
   "source": [
    "import pandas as pd\n",
    "\n",
    "pd.Series([\n",
    "    10_512_018,\n",
    "    0,\n",
    "    3_841_190\n",
    "]).std()"
   ]
  },
  {
   "cell_type": "code",
   "execution_count": 11,
   "metadata": {},
   "outputs": [],
   "source": [
    "import scipy.stats as stats\n",
    "\n",
    "import matplotlib\n",
    "\n",
    "import matplotlib.pyplot as plt\n",
    "\n",
    "%matplotlib inline\n",
    "#matplotlib.style.use('fivethirtyeight')"
   ]
  },
  {
   "cell_type": "code",
   "execution_count": 12,
   "metadata": {},
   "outputs": [
    {
     "data": {
      "image/png": "[encoded data removed]",
      "text/plain": [
       "<Figure size 864x216 with 3 Axes>"
      ]
     },
     "metadata": {
      "needs_background": "light"
     },
     "output_type": "display_data"
    }
   ],
   "source": [
    "fig, axes = plt.subplots(1,3)\n",
    "\n",
    "heights = stats.norm.rvs(loc=175, scale=40, size=10_000)\n",
    "weights = stats.norm.rvs(loc=80, scale=20, size=10_000)\n",
    "\n",
    "# Height\n",
    "axes[1].hist(heights, bins=50)\n",
    "axes[1].set_title('Height (Centimeters)')\n",
    "axes[1].set_xlim((0, 300))\n",
    "axes[1].grid(False)\n",
    "axes[1].text(0,500, 'Mean: 175 cm\\nStdev: 40 cm')\n",
    "axes[1].yaxis.set_ticks([])\n",
    "\n",
    "# Weight\n",
    "axes[0].hist(weights, bins=50)\n",
    "axes[0].set_title('Weight (Kilos)')\n",
    "axes[0].set_xlim((0, 300))\n",
    "axes[0].grid(False)\n",
    "axes[0].text(120,500, 'Mean: 80 kg\\nStdev: 20 kg')\n",
    "axes[0].yaxis.set_ticks([])\n",
    "\n",
    "# BMI\n",
    "axes[2].set_title('BMI')\n",
    "\n",
    "axes[2].xaxis.set_ticks([])\n",
    "axes[2].yaxis.set_ticks([])\n",
    "axes[2].text(.4,.3,'?', fontsize=90)\n",
    "\n",
    "fig.set_size_inches(12, 3)\n"
   ]
  },
  {
   "cell_type": "markdown",
   "metadata": {},
   "source": [
    "$\n",
    "\\Large{\\text{BMI}} = \\huge{\n",
    "    \\frac\n",
    "        {\\text{Weight}_{kg}}\n",
    "        {(\\text{Height}_{cm} \\times .01) ^2}\n",
    "}\n",
    "$"
   ]
  },
  {
   "cell_type": "code",
   "execution_count": 6,
   "metadata": {},
   "outputs": [
    {
     "data": {
      "text/plain": [
       "35.55555555555556"
      ]
     },
     "execution_count": 6,
     "metadata": {},
     "output_type": "execute_result"
    }
   ],
   "source": [
    "80 / (150 * .01) ** 2"
   ]
  },
  {
   "cell_type": "code",
   "execution_count": null,
   "metadata": {},
   "outputs": [],
   "source": [
    "5 + 5"
   ]
  },
  {
   "cell_type": "code",
   "execution_count": 7,
   "metadata": {},
   "outputs": [],
   "source": [
    "import pandas as pd\n",
    "import scipy.stats as stats\n",
    "\n",
    "heights = stats.norm.rvs(loc=175, scale=40, size=3)\n",
    "weights = stats.norm.rvs(loc=80, scale=20, size=3)\n",
    "\n",
    "df = pd.DataFrame({'height': heights, 'weight':weights})"
   ]
  },
  {
   "cell_type": "code",
   "execution_count": 8,
   "metadata": {},
   "outputs": [
    {
     "data": {
      "text/html": [
       "<div>\n",
       "<style scoped>\n",
       "    .dataframe tbody tr th:only-of-type {\n",
       "        vertical-align: middle;\n",
       "    }\n",
       "\n",
       "    .dataframe tbody tr th {\n",
       "        vertical-align: top;\n",
       "    }\n",
       "\n",
       "    .dataframe thead th {\n",
       "        text-align: right;\n",
       "    }\n",
       "</style>\n",
       "<table border=\"1\" class=\"dataframe\">\n",
       "  <thead>\n",
       "    <tr style=\"text-align: right;\">\n",
       "      <th></th>\n",
       "      <th>height</th>\n",
       "      <th>weight</th>\n",
       "      <th>bmi</th>\n",
       "    </tr>\n",
       "  </thead>\n",
       "  <tbody>\n",
       "    <tr>\n",
       "      <th>0</th>\n",
       "      <td>164.606021</td>\n",
       "      <td>63.909336</td>\n",
       "      <td>23.587009</td>\n",
       "    </tr>\n",
       "    <tr>\n",
       "      <th>1</th>\n",
       "      <td>230.353776</td>\n",
       "      <td>74.972730</td>\n",
       "      <td>14.129040</td>\n",
       "    </tr>\n",
       "    <tr>\n",
       "      <th>2</th>\n",
       "      <td>246.915053</td>\n",
       "      <td>58.501501</td>\n",
       "      <td>9.595594</td>\n",
       "    </tr>\n",
       "  </tbody>\n",
       "</table>\n",
       "</div>"
      ],
      "text/plain": [
       "       height     weight        bmi\n",
       "0  164.606021  63.909336  23.587009\n",
       "1  230.353776  74.972730  14.129040\n",
       "2  246.915053  58.501501   9.595594"
      ]
     },
     "execution_count": 8,
     "metadata": {},
     "output_type": "execute_result"
    }
   ],
   "source": [
    "def get_bmi(row):\n",
    "    h = row['height']\n",
    "    w = row['weight']\n",
    "    bmi = w / (h * .01) ** 2\n",
    "    return bmi\n",
    "\n",
    "df['bmi'] = df.apply(get_bmi, axis=1)\n",
    "df"
   ]
  },
  {
   "cell_type": "code",
   "execution_count": null,
   "metadata": {},
   "outputs": [],
   "source": [
    "\n",
    "\n",
    "heights = pd.Series(stats.norm.rvs(loc=175, scale=40, size=10_000))\n",
    "weights = pd.Series(stats.norm.rvs(loc=80, scale=20, size=10_000))\n",
    "df = pd.DataFrame({'height': heights, 'weight':weights})\n",
    "df['bmi'] = df.apply(get_bmi, axis=1)\n",
    "df = df.round(2)\n",
    "bmis = df['bmi']\n"
   ]
  },
  {
   "cell_type": "code",
   "execution_count": 41,
   "metadata": {},
   "outputs": [
    {
     "data": {
      "image/png": "[encoded data removed]",
      "text/plain": [
       "<Figure size 864x216 with 3 Axes>"
      ]
     },
     "metadata": {
      "needs_background": "light"
     },
     "output_type": "display_data"
    }
   ],
   "source": [
    "fig, axes = plt.subplots(1,3)\n",
    "\n",
    "# Height\n",
    "axes[1].hist(heights, bins=50)\n",
    "axes[1].set_title('Height (Centimeters)')\n",
    "axes[1].set_xlim((0, 300))\n",
    "axes[1].grid(False)\n",
    "axes[1].text(25,480, 'Mean: {} cm\\nStdev: {} cm'.format(round(heights.mean()), round(heights.std())))\n",
    "axes[1].yaxis.set_ticks([])\n",
    "\n",
    "# Weight\n",
    "axes[0].hist(weights, bins=50)\n",
    "axes[0].set_title('Weight (Kilos)')\n",
    "axes[0].set_xlim((0, 300))\n",
    "axes[0].grid(False)\n",
    "axes[0].text(120,500, 'Mean: {} kg\\nStdev: {} kg'.format(round(weights.mean()), round(weights.std())))\n",
    "axes[0].yaxis.set_ticks([])\n",
    "\n",
    "# BMI\n",
    "axes[2].set_title('BMI')\n",
    "axes[2].hist(bmis, bins=1000)\n",
    "axes[2].set_xlim((0, 300))\n",
    "axes[2].grid(False)\n",
    "axes[2].text(60, 210, 'Mean: {}\\nStdev: {}'.format(round(bmis.mean()), round(bmis.std())))\n",
    "axes[2].yaxis.set_ticks([])\n",
    "\n",
    "fig.set_size_inches(12, 3)"
   ]
  },
  {
   "cell_type": "code",
   "execution_count": 24,
   "metadata": {},
   "outputs": [
    {
     "data": {
      "text/plain": [
       "array([20.99692202, 23.99979115, 23.02600969, ..., 42.82278335,\n",
       "       14.7383338 , 24.56640589])"
      ]
     },
     "execution_count": 24,
     "metadata": {},
     "output_type": "execute_result"
    }
   ],
   "source": [
    "bmis"
   ]
  },
  {
   "cell_type": "code",
   "execution_count": null,
   "metadata": {},
   "outputs": [],
   "source": []
  },
  {
   "cell_type": "code",
   "execution_count": null,
   "metadata": {},
   "outputs": [],
   "source": []
  }
 ],
 "metadata": {
  "kernelspec": {
   "display_name": "Python 3",
   "language": "python",
   "name": "python3"
  },
  "language_info": {
   "codemirror_mode": {
    "name": "ipython",
    "version": 3
   },
   "file_extension": ".py",
   "mimetype": "text/x-python",
   "name": "python",
   "nbconvert_exporter": "python",
   "pygments_lexer": "ipython3",
   "version": "3.7.3"
  }
 },
 "nbformat": 4,
 "nbformat_minor": 2
}
